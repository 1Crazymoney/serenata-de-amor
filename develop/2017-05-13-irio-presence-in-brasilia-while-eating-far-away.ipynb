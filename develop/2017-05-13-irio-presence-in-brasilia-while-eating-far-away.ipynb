{
 "cells": [
  {
   "cell_type": "markdown",
   "metadata": {},
   "source": [
    "# Presence in Brasilia while eating far away\n",
    "\n",
    "The `reimbursements.xz` dataset includes meal expenses, not allowed for anyone other than congresspeople. Thus, if we could find meal expenses made far away from Brasilia while the congressperson attended a congressional session, we can consider this as a suspicious expense. Possibly an entry mistake or just that the politician was in Brasilia or eating the meal, but not both at the same time."
   ]
  },
  {
   "cell_type": "code",
   "execution_count": 1,
   "metadata": {
    "collapsed": true,
    "scrolled": true
   },
   "outputs": [],
   "source": [
    "from serenata_toolbox.datasets import fetch\n",
    "\n",
    "# fetch('2016-12-21-presences.xz', '../data')\n",
    "# fetch('2016-12-21-sessions.xz', '../data')"
   ]
  },
  {
   "cell_type": "code",
   "execution_count": 2,
   "metadata": {},
   "outputs": [
    {
     "name": "stdout",
     "output_type": "stream",
     "text": [
      "(188227, 5)\n"
     ]
    },
    {
     "data": {
      "text/html": [
       "<div>\n",
       "<style>\n",
       "    .dataframe thead tr:only-child th {\n",
       "        text-align: right;\n",
       "    }\n",
       "\n",
       "    .dataframe thead th {\n",
       "        text-align: left;\n",
       "    }\n",
       "\n",
       "    .dataframe tbody tr th {\n",
       "        vertical-align: top;\n",
       "    }\n",
       "</style>\n",
       "<table border=\"1\" class=\"dataframe\">\n",
       "  <thead>\n",
       "    <tr style=\"text-align: right;\">\n",
       "      <th></th>\n",
       "      <th>date</th>\n",
       "      <th>registration</th>\n",
       "      <th>congressperson_name</th>\n",
       "      <th>session</th>\n",
       "      <th>presence</th>\n",
       "    </tr>\n",
       "  </thead>\n",
       "  <tbody>\n",
       "    <tr>\n",
       "      <th>0</th>\n",
       "      <td>2015-02-01 10:33:09</td>\n",
       "      <td>361</td>\n",
       "      <td>Goulart-PSD/SP</td>\n",
       "      <td>SESSÃO PREPARATÓRIA Nº 001 - 01/02/2015</td>\n",
       "      <td>Presença</td>\n",
       "    </tr>\n",
       "    <tr>\n",
       "      <th>1</th>\n",
       "      <td>2015-02-01 10:33:09</td>\n",
       "      <td>361</td>\n",
       "      <td>Goulart-PSD/SP</td>\n",
       "      <td>SESSÃO PREPARATÓRIA Nº 002 - 01/02/2015</td>\n",
       "      <td>Presença</td>\n",
       "    </tr>\n",
       "    <tr>\n",
       "      <th>2</th>\n",
       "      <td>2015-02-03 08:00:00</td>\n",
       "      <td>361</td>\n",
       "      <td>Goulart-PSD/SP</td>\n",
       "      <td>ORDINÁRIA Nº 001 - 03/02/2015</td>\n",
       "      <td>Presença</td>\n",
       "    </tr>\n",
       "    <tr>\n",
       "      <th>3</th>\n",
       "      <td>2015-02-03 08:00:00</td>\n",
       "      <td>361</td>\n",
       "      <td>Goulart-PSD/SP</td>\n",
       "      <td>EXTRAORDINÁRIA Nº 002 - 03/02/2015</td>\n",
       "      <td>Presença</td>\n",
       "    </tr>\n",
       "    <tr>\n",
       "      <th>4</th>\n",
       "      <td>2015-02-04 08:00:01</td>\n",
       "      <td>361</td>\n",
       "      <td>Goulart-PSD/SP</td>\n",
       "      <td>ORDINÁRIA Nº 003 - 04/02/2015</td>\n",
       "      <td>Presença</td>\n",
       "    </tr>\n",
       "  </tbody>\n",
       "</table>\n",
       "</div>"
      ],
      "text/plain": [
       "                  date  registration congressperson_name  \\\n",
       "0  2015-02-01 10:33:09           361      Goulart-PSD/SP   \n",
       "1  2015-02-01 10:33:09           361      Goulart-PSD/SP   \n",
       "2  2015-02-03 08:00:00           361      Goulart-PSD/SP   \n",
       "3  2015-02-03 08:00:00           361      Goulart-PSD/SP   \n",
       "4  2015-02-04 08:00:01           361      Goulart-PSD/SP   \n",
       "\n",
       "                                   session  presence  \n",
       "0  SESSÃO PREPARATÓRIA Nº 001 - 01/02/2015  Presença  \n",
       "1  SESSÃO PREPARATÓRIA Nº 002 - 01/02/2015  Presença  \n",
       "2            ORDINÁRIA Nº 001 - 03/02/2015  Presença  \n",
       "3       EXTRAORDINÁRIA Nº 002 - 03/02/2015  Presença  \n",
       "4            ORDINÁRIA Nº 003 - 04/02/2015  Presença  "
      ]
     },
     "execution_count": 2,
     "metadata": {},
     "output_type": "execute_result"
    }
   ],
   "source": [
    "import numpy as np\n",
    "import pandas as pd\n",
    "\n",
    "presences = pd.read_csv('../data/2016-12-21-presences.xz')\n",
    "print(presences.shape)\n",
    "presences.head()"
   ]
  },
  {
   "cell_type": "code",
   "execution_count": 3,
   "metadata": {
    "collapsed": true
   },
   "outputs": [],
   "source": [
    "presences['congressperson_name'] = presences['congressperson_name'] \\\n",
    "    .apply(lambda name: '-'.join(name.split('-')[:-1]))"
   ]
  },
  {
   "cell_type": "code",
   "execution_count": 4,
   "metadata": {},
   "outputs": [
    {
     "name": "stdout",
     "output_type": "stream",
     "text": [
      "(405, 3)\n"
     ]
    },
    {
     "data": {
      "text/html": [
       "<div>\n",
       "<style>\n",
       "    .dataframe thead tr:only-child th {\n",
       "        text-align: right;\n",
       "    }\n",
       "\n",
       "    .dataframe thead th {\n",
       "        text-align: left;\n",
       "    }\n",
       "\n",
       "    .dataframe tbody tr th {\n",
       "        vertical-align: top;\n",
       "    }\n",
       "</style>\n",
       "<table border=\"1\" class=\"dataframe\">\n",
       "  <thead>\n",
       "    <tr style=\"text-align: right;\">\n",
       "      <th></th>\n",
       "      <th>date</th>\n",
       "      <th>description</th>\n",
       "      <th>started_at</th>\n",
       "    </tr>\n",
       "  </thead>\n",
       "  <tbody>\n",
       "    <tr>\n",
       "      <th>0</th>\n",
       "      <td>2015-02-01</td>\n",
       "      <td>SESSÃO PREPARATÓRIA Nº 001 - 01/02/2015</td>\n",
       "      <td>2015-02-01 11:26:01</td>\n",
       "    </tr>\n",
       "    <tr>\n",
       "      <th>1</th>\n",
       "      <td>2015-02-01</td>\n",
       "      <td>SESSÃO PREPARATÓRIA Nº 002 - 01/02/2015</td>\n",
       "      <td>2015-02-01 17:57:28</td>\n",
       "    </tr>\n",
       "    <tr>\n",
       "      <th>2</th>\n",
       "      <td>2015-02-03</td>\n",
       "      <td>ORDINÁRIA Nº 001 - 03/02/2015</td>\n",
       "      <td>2015-02-03 14:00:12</td>\n",
       "    </tr>\n",
       "    <tr>\n",
       "      <th>3</th>\n",
       "      <td>2015-02-03</td>\n",
       "      <td>EXTRAORDINÁRIA Nº 002 - 03/02/2015</td>\n",
       "      <td>2015-02-03 19:03:02</td>\n",
       "    </tr>\n",
       "    <tr>\n",
       "      <th>4</th>\n",
       "      <td>2015-02-04</td>\n",
       "      <td>ORDINÁRIA Nº 003 - 04/02/2015</td>\n",
       "      <td>2015-02-04 14:00:07</td>\n",
       "    </tr>\n",
       "  </tbody>\n",
       "</table>\n",
       "</div>"
      ],
      "text/plain": [
       "         date                              description           started_at\n",
       "0  2015-02-01  SESSÃO PREPARATÓRIA Nº 001 - 01/02/2015  2015-02-01 11:26:01\n",
       "1  2015-02-01  SESSÃO PREPARATÓRIA Nº 002 - 01/02/2015  2015-02-01 17:57:28\n",
       "2  2015-02-03            ORDINÁRIA Nº 001 - 03/02/2015  2015-02-03 14:00:12\n",
       "3  2015-02-03       EXTRAORDINÁRIA Nº 002 - 03/02/2015  2015-02-03 19:03:02\n",
       "4  2015-02-04            ORDINÁRIA Nº 003 - 04/02/2015  2015-02-04 14:00:07"
      ]
     },
     "execution_count": 4,
     "metadata": {},
     "output_type": "execute_result"
    }
   ],
   "source": [
    "sessions = pd.read_csv('../data/2016-12-21-sessions.xz')\n",
    "print(sessions.shape)\n",
    "sessions.head()"
   ]
  },
  {
   "cell_type": "markdown",
   "metadata": {},
   "source": [
    "## Duration of each session\n",
    "\n",
    "By checking the Chamber of Deputies website[1], we can find out the duration of each session (except for the cases when there aren't enough congresspeople to attend).\n",
    "\n",
    "[1]: http://www2.camara.leg.br/comunicacao/assessoria-de-imprensa/sessoes-do-plenario"
   ]
  },
  {
   "cell_type": "code",
   "execution_count": 5,
   "metadata": {},
   "outputs": [
    {
     "data": {
      "text/plain": [
       "array(['SESSÃO PREPARATÓRIA', 'ORDINÁRIA', 'EXTRAORDINÁRIA',\n",
       "       'EXTRAORDINÁRIA 166 - 23/06/2015', 'ORDINÁRIA 168 - 24/06/2015',\n",
       "       'EXTRAORDINÁRIA 169- 24/06/2015', 'EXTRAORDINÁRIA 170 - 25/06/2015',\n",
       "       'EXTRAORDINÁRIA 171 - 25/06/2015'], dtype=object)"
      ]
     },
     "execution_count": 5,
     "metadata": {},
     "output_type": "execute_result"
    }
   ],
   "source": [
    "presences['session'].apply(lambda value: value.split(r' Nº')[0]).unique()"
   ]
  },
  {
   "cell_type": "code",
   "execution_count": 6,
   "metadata": {},
   "outputs": [
    {
     "data": {
      "text/plain": [
       "0    NaN\n",
       "1    NaN\n",
       "2    5.0\n",
       "3    4.0\n",
       "4    5.0\n",
       "Name: duration, dtype: float64"
      ]
     },
     "execution_count": 6,
     "metadata": {},
     "output_type": "execute_result"
    }
   ],
   "source": [
    "def duration_in_hours(description):\n",
    "    if 'EXTRAORDINÁRIA' in description:\n",
    "        return 4\n",
    "    elif 'ORDINÁRIA' in description:\n",
    "        return 5\n",
    "\n",
    "\n",
    "\n",
    "presences['duration'] = presences['session'].apply(duration_in_hours)\n",
    "presences['duration'].head()"
   ]
  },
  {
   "cell_type": "code",
   "execution_count": 7,
   "metadata": {},
   "outputs": [
    {
     "data": {
      "text/plain": [
       "(956, 0.0050789737922827226)"
      ]
     },
     "execution_count": 7,
     "metadata": {},
     "output_type": "execute_result"
    }
   ],
   "source": [
    "presences_wo_duration = presences['duration'].isnull().sum()\n",
    "presences_wo_duration, presences_wo_duration / len(presences['duration'])"
   ]
  },
  {
   "cell_type": "markdown",
   "metadata": {},
   "source": [
    "## Presences"
   ]
  },
  {
   "cell_type": "code",
   "execution_count": 8,
   "metadata": {},
   "outputs": [
    {
     "data": {
      "text/plain": [
       "array(['Presença', 'Ausência'], dtype=object)"
      ]
     },
     "execution_count": 8,
     "metadata": {},
     "output_type": "execute_result"
    }
   ],
   "source": [
    "presences['presence'].unique()"
   ]
  },
  {
   "cell_type": "markdown",
   "metadata": {},
   "source": [
    "Curious to know if there's a pattern between presence in the Congress and suspicious meals. Could exist any relationship between percentage of attendance in sessions and these irregularities?"
   ]
  },
  {
   "cell_type": "code",
   "execution_count": 9,
   "metadata": {},
   "outputs": [],
   "source": [
    "import matplotlib"
   ]
  },
  {
   "cell_type": "code",
   "execution_count": 10,
   "metadata": {},
   "outputs": [
    {
     "data": {
      "text/plain": [
       "<matplotlib.axes._subplots.AxesSubplot at 0x10e834e80>"
      ]
     },
     "execution_count": 10,
     "metadata": {},
     "output_type": "execute_result"
    },
    {
     "data": {
      "image/png": "[encoded data removed]",
      "text/plain": [
       "<matplotlib.figure.Figure at 0x11112b9b0>"
      ]
     },
     "metadata": {},
     "output_type": "display_data"
    }
   ],
   "source": [
    "%matplotlib inline\n",
    "\n",
    "presences['presence'].value_counts().plot(kind='bar')"
   ]
  },
  {
   "cell_type": "code",
   "execution_count": 11,
   "metadata": {},
   "outputs": [
    {
     "data": {
      "text/html": [
       "<div>\n",
       "<style>\n",
       "    .dataframe thead tr:only-child th {\n",
       "        text-align: right;\n",
       "    }\n",
       "\n",
       "    .dataframe thead th {\n",
       "        text-align: left;\n",
       "    }\n",
       "\n",
       "    .dataframe tbody tr th {\n",
       "        vertical-align: top;\n",
       "    }\n",
       "</style>\n",
       "<table border=\"1\" class=\"dataframe\">\n",
       "  <thead>\n",
       "    <tr style=\"text-align: right;\">\n",
       "      <th></th>\n",
       "      <th>date</th>\n",
       "      <th>registration</th>\n",
       "      <th>congressperson_name</th>\n",
       "      <th>session</th>\n",
       "      <th>presence</th>\n",
       "      <th>duration</th>\n",
       "    </tr>\n",
       "  </thead>\n",
       "  <tbody>\n",
       "    <tr>\n",
       "      <th>0</th>\n",
       "      <td>2015-02-01 10:33:09</td>\n",
       "      <td>361</td>\n",
       "      <td>Goulart</td>\n",
       "      <td>SESSÃO PREPARATÓRIA Nº 001 - 01/02/2015</td>\n",
       "      <td>Presença</td>\n",
       "      <td>NaN</td>\n",
       "    </tr>\n",
       "    <tr>\n",
       "      <th>1</th>\n",
       "      <td>2015-02-01 10:33:09</td>\n",
       "      <td>361</td>\n",
       "      <td>Goulart</td>\n",
       "      <td>SESSÃO PREPARATÓRIA Nº 002 - 01/02/2015</td>\n",
       "      <td>Presença</td>\n",
       "      <td>NaN</td>\n",
       "    </tr>\n",
       "    <tr>\n",
       "      <th>2</th>\n",
       "      <td>2015-02-03 08:00:00</td>\n",
       "      <td>361</td>\n",
       "      <td>Goulart</td>\n",
       "      <td>ORDINÁRIA Nº 001 - 03/02/2015</td>\n",
       "      <td>Presença</td>\n",
       "      <td>5.0</td>\n",
       "    </tr>\n",
       "    <tr>\n",
       "      <th>3</th>\n",
       "      <td>2015-02-03 08:00:00</td>\n",
       "      <td>361</td>\n",
       "      <td>Goulart</td>\n",
       "      <td>EXTRAORDINÁRIA Nº 002 - 03/02/2015</td>\n",
       "      <td>Presença</td>\n",
       "      <td>4.0</td>\n",
       "    </tr>\n",
       "    <tr>\n",
       "      <th>4</th>\n",
       "      <td>2015-02-04 08:00:01</td>\n",
       "      <td>361</td>\n",
       "      <td>Goulart</td>\n",
       "      <td>ORDINÁRIA Nº 003 - 04/02/2015</td>\n",
       "      <td>Presença</td>\n",
       "      <td>5.0</td>\n",
       "    </tr>\n",
       "  </tbody>\n",
       "</table>\n",
       "</div>"
      ],
      "text/plain": [
       "                  date  registration congressperson_name  \\\n",
       "0  2015-02-01 10:33:09           361             Goulart   \n",
       "1  2015-02-01 10:33:09           361             Goulart   \n",
       "2  2015-02-03 08:00:00           361             Goulart   \n",
       "3  2015-02-03 08:00:00           361             Goulart   \n",
       "4  2015-02-04 08:00:01           361             Goulart   \n",
       "\n",
       "                                   session  presence  duration  \n",
       "0  SESSÃO PREPARATÓRIA Nº 001 - 01/02/2015  Presença       NaN  \n",
       "1  SESSÃO PREPARATÓRIA Nº 002 - 01/02/2015  Presença       NaN  \n",
       "2            ORDINÁRIA Nº 001 - 03/02/2015  Presença       5.0  \n",
       "3       EXTRAORDINÁRIA Nº 002 - 03/02/2015  Presença       4.0  \n",
       "4            ORDINÁRIA Nº 003 - 04/02/2015  Presença       5.0  "
      ]
     },
     "execution_count": 11,
     "metadata": {},
     "output_type": "execute_result"
    }
   ],
   "source": [
    "presences.head()"
   ]
  },
  {
   "cell_type": "markdown",
   "metadata": {},
   "source": [
    "Let's find out the attendance level of each congressperson."
   ]
  },
  {
   "cell_type": "code",
   "execution_count": 12,
   "metadata": {},
   "outputs": [
    {
     "name": "stdout",
     "output_type": "stream",
     "text": [
      "(477, 4)\n"
     ]
    }
   ],
   "source": [
    "attendence = presences.query('presence == \"Presença\"').groupby('registration')['session'].count().reset_index()\n",
    "absence = presences.query('presence == \"Ausência\"').groupby('registration')['session'].count().reset_index()\n",
    "attendence = attendence.merge(absence, on='registration')\n",
    "attendence.rename(columns={'session_x': 'presence', 'session_y': 'absence'}, inplace=True)\n",
    "attendence['attendence'] = attendence['presence'] / (attendence['absence'] + attendence['presence'])\n",
    "attendence.sort_values('attendence', inplace=True)\n",
    "print(attendence.shape)"
   ]
  },
  {
   "cell_type": "code",
   "execution_count": 13,
   "metadata": {},
   "outputs": [
    {
     "data": {
      "text/html": [
       "<div>\n",
       "<style>\n",
       "    .dataframe thead tr:only-child th {\n",
       "        text-align: right;\n",
       "    }\n",
       "\n",
       "    .dataframe thead th {\n",
       "        text-align: left;\n",
       "    }\n",
       "\n",
       "    .dataframe tbody tr th {\n",
       "        vertical-align: top;\n",
       "    }\n",
       "</style>\n",
       "<table border=\"1\" class=\"dataframe\">\n",
       "  <thead>\n",
       "    <tr style=\"text-align: right;\">\n",
       "      <th></th>\n",
       "      <th>registration</th>\n",
       "      <th>presence</th>\n",
       "      <th>absence</th>\n",
       "      <th>attendence</th>\n",
       "      <th>congressperson_name</th>\n",
       "    </tr>\n",
       "  </thead>\n",
       "  <tbody>\n",
       "    <tr>\n",
       "      <th>0</th>\n",
       "      <td>23</td>\n",
       "      <td>123</td>\n",
       "      <td>282</td>\n",
       "      <td>0.303704</td>\n",
       "      <td>Wladimir Costa</td>\n",
       "    </tr>\n",
       "    <tr>\n",
       "      <th>1</th>\n",
       "      <td>71</td>\n",
       "      <td>13</td>\n",
       "      <td>19</td>\n",
       "      <td>0.406250</td>\n",
       "      <td>Julião Amin Castro</td>\n",
       "    </tr>\n",
       "    <tr>\n",
       "      <th>2</th>\n",
       "      <td>373</td>\n",
       "      <td>199</td>\n",
       "      <td>206</td>\n",
       "      <td>0.491358</td>\n",
       "      <td>Paulo Maluf</td>\n",
       "    </tr>\n",
       "    <tr>\n",
       "      <th>3</th>\n",
       "      <td>87</td>\n",
       "      <td>184</td>\n",
       "      <td>154</td>\n",
       "      <td>0.544379</td>\n",
       "      <td>Aníbal Gomes</td>\n",
       "    </tr>\n",
       "    <tr>\n",
       "      <th>4</th>\n",
       "      <td>16</td>\n",
       "      <td>224</td>\n",
       "      <td>181</td>\n",
       "      <td>0.553086</td>\n",
       "      <td>Vinicius Gurgel</td>\n",
       "    </tr>\n",
       "    <tr>\n",
       "      <th>5</th>\n",
       "      <td>469</td>\n",
       "      <td>226</td>\n",
       "      <td>179</td>\n",
       "      <td>0.558025</td>\n",
       "      <td>Takayama</td>\n",
       "    </tr>\n",
       "    <tr>\n",
       "      <th>6</th>\n",
       "      <td>11</td>\n",
       "      <td>226</td>\n",
       "      <td>179</td>\n",
       "      <td>0.558025</td>\n",
       "      <td>Jozi Rocha</td>\n",
       "    </tr>\n",
       "    <tr>\n",
       "      <th>7</th>\n",
       "      <td>446</td>\n",
       "      <td>184</td>\n",
       "      <td>144</td>\n",
       "      <td>0.560976</td>\n",
       "      <td>Edmar Arruda</td>\n",
       "    </tr>\n",
       "    <tr>\n",
       "      <th>8</th>\n",
       "      <td>321</td>\n",
       "      <td>238</td>\n",
       "      <td>167</td>\n",
       "      <td>0.587654</td>\n",
       "      <td>Marcos Soares</td>\n",
       "    </tr>\n",
       "    <tr>\n",
       "      <th>9</th>\n",
       "      <td>348</td>\n",
       "      <td>243</td>\n",
       "      <td>162</td>\n",
       "      <td>0.600000</td>\n",
       "      <td>Guilherme Mussi</td>\n",
       "    </tr>\n",
       "  </tbody>\n",
       "</table>\n",
       "</div>"
      ],
      "text/plain": [
       "   registration  presence  absence  attendence congressperson_name\n",
       "0            23       123      282    0.303704      Wladimir Costa\n",
       "1            71        13       19    0.406250  Julião Amin Castro\n",
       "2           373       199      206    0.491358         Paulo Maluf\n",
       "3            87       184      154    0.544379        Aníbal Gomes\n",
       "4            16       224      181    0.553086     Vinicius Gurgel\n",
       "5           469       226      179    0.558025            Takayama\n",
       "6            11       226      179    0.558025          Jozi Rocha\n",
       "7           446       184      144    0.560976        Edmar Arruda\n",
       "8           321       238      167    0.587654       Marcos Soares\n",
       "9           348       243      162    0.600000     Guilherme Mussi"
      ]
     },
     "execution_count": 13,
     "metadata": {},
     "output_type": "execute_result"
    }
   ],
   "source": [
    "attendence = attendence.merge(presences[['congressperson_name', 'registration']].drop_duplicates())\n",
    "attendence.head(10)"
   ]
  },
  {
   "cell_type": "markdown",
   "metadata": {},
   "source": [
    "Now, we can group by day and find out how many sessions and hours had the congressperson attendance."
   ]
  },
  {
   "cell_type": "code",
   "execution_count": 14,
   "metadata": {},
   "outputs": [
    {
     "name": "stderr",
     "output_type": "stream",
     "text": [
      "/Users/irio/anaconda3/envs/serenata_de_amor/lib/python3.6/site-packages/ipykernel_launcher.py:3: SettingWithCopyWarning: \n",
      "A value is trying to be set on a copy of a slice from a DataFrame.\n",
      "Try using .loc[row_indexer,col_indexer] = value instead\n",
      "\n",
      "See the caveats in the documentation: http://pandas.pydata.org/pandas-docs/stable/indexing.html#indexing-view-versus-copy\n",
      "  This is separate from the ipykernel package so we can avoid doing imports until\n"
     ]
    },
    {
     "data": {
      "text/html": [
       "<div>\n",
       "<style>\n",
       "    .dataframe thead tr:only-child th {\n",
       "        text-align: right;\n",
       "    }\n",
       "\n",
       "    .dataframe thead th {\n",
       "        text-align: left;\n",
       "    }\n",
       "\n",
       "    .dataframe tbody tr th {\n",
       "        vertical-align: top;\n",
       "    }\n",
       "</style>\n",
       "<table border=\"1\" class=\"dataframe\">\n",
       "  <thead>\n",
       "    <tr style=\"text-align: right;\">\n",
       "      <th></th>\n",
       "      <th>registration</th>\n",
       "      <th>day</th>\n",
       "      <th>sessions</th>\n",
       "      <th>duration</th>\n",
       "    </tr>\n",
       "  </thead>\n",
       "  <tbody>\n",
       "    <tr>\n",
       "      <th>38891</th>\n",
       "      <td>226</td>\n",
       "      <td>2016-04-16</td>\n",
       "      <td>5.0</td>\n",
       "      <td>20.0</td>\n",
       "    </tr>\n",
       "    <tr>\n",
       "      <th>67866</th>\n",
       "      <td>387</td>\n",
       "      <td>2016-04-16</td>\n",
       "      <td>5.0</td>\n",
       "      <td>20.0</td>\n",
       "    </tr>\n",
       "    <tr>\n",
       "      <th>78599</th>\n",
       "      <td>447</td>\n",
       "      <td>2016-04-16</td>\n",
       "      <td>5.0</td>\n",
       "      <td>20.0</td>\n",
       "    </tr>\n",
       "    <tr>\n",
       "      <th>43153</th>\n",
       "      <td>248</td>\n",
       "      <td>2016-04-16</td>\n",
       "      <td>5.0</td>\n",
       "      <td>20.0</td>\n",
       "    </tr>\n",
       "    <tr>\n",
       "      <th>67668</th>\n",
       "      <td>386</td>\n",
       "      <td>2016-04-16</td>\n",
       "      <td>5.0</td>\n",
       "      <td>20.0</td>\n",
       "    </tr>\n",
       "  </tbody>\n",
       "</table>\n",
       "</div>"
      ],
      "text/plain": [
       "       registration        day  sessions  duration\n",
       "38891           226 2016-04-16       5.0      20.0\n",
       "67866           387 2016-04-16       5.0      20.0\n",
       "78599           447 2016-04-16       5.0      20.0\n",
       "43153           248 2016-04-16       5.0      20.0\n",
       "67668           386 2016-04-16       5.0      20.0"
      ]
     },
     "execution_count": 14,
     "metadata": {},
     "output_type": "execute_result"
    }
   ],
   "source": [
    "presence_overview = presences.query('presence == \"Presença\"')\n",
    "days = presence_overview['date'].apply(lambda value: value.split(' ')[0])\n",
    "presence_overview['day'] = pd.to_datetime(days)\n",
    "presence_overview = presence_overview \\\n",
    "    .groupby(['registration', 'day'])['duration'] \\\n",
    "    .agg([len, np.sum]) \\\n",
    "    .rename(columns={'len': 'sessions', 'sum': 'duration'}) \\\n",
    "    .reset_index()\n",
    "presence_overview.sort_values('sessions', ascending=False).head()"
   ]
  },
  {
   "cell_type": "markdown",
   "metadata": {},
   "source": [
    "**Sessions per day (when greater than zero)**"
   ]
  },
  {
   "cell_type": "code",
   "execution_count": 15,
   "metadata": {},
   "outputs": [
    {
     "data": {
      "text/plain": [
       "(array([ 36868.,      0.,  42423.,      0.,      0.,   9097.,      0.,\n",
       "          2098.,      0.,    149.]),\n",
       " array([ 1. ,  1.4,  1.8,  2.2,  2.6,  3. ,  3.4,  3.8,  4.2,  4.6,  5. ]),\n",
       " <a list of 10 Patch objects>)"
      ]
     },
     "execution_count": 15,
     "metadata": {},
     "output_type": "execute_result"
    },
    {
     "data": {
      "image/png": "[encoded data removed]",
      "text/plain": [
       "<matplotlib.figure.Figure at 0x10eab89e8>"
      ]
     },
     "metadata": {},
     "output_type": "display_data"
    }
   ],
   "source": [
    "import matplotlib.pyplot as plt\n",
    "\n",
    "plt.hist(presence_overview['sessions'])"
   ]
  },
  {
   "cell_type": "markdown",
   "metadata": {},
   "source": [
    "**Work hours per day (when greater than zero)**"
   ]
  },
  {
   "cell_type": "code",
   "execution_count": 16,
   "metadata": {},
   "outputs": [
    {
     "data": {
      "text/plain": [
       "(array([ 36832.,      0.,  17776.,  24205.,      0.,   9097.,      0.,\n",
       "          1800.,    298.,    149.]),\n",
       " array([  4. ,   5.6,   7.2,   8.8,  10.4,  12. ,  13.6,  15.2,  16.8,\n",
       "         18.4,  20. ]),\n",
       " <a list of 10 Patch objects>)"
      ]
     },
     "execution_count": 16,
     "metadata": {},
     "output_type": "execute_result"
    },
    {
     "data": {
      "image/png": "[encoded data removed]",
      "text/plain": [
       "<matplotlib.figure.Figure at 0x10ec5fe10>"
      ]
     },
     "metadata": {},
     "output_type": "display_data"
    }
   ],
   "source": [
    "non_null_duration_per_day = presence_overview['duration'][presence_overview['duration'].notnull()]\n",
    "plt.hist(non_null_duration_per_day)"
   ]
  },
  {
   "cell_type": "markdown",
   "metadata": {},
   "source": [
    "Load `reimburments.xz` to merge with `presence_overview`."
   ]
  },
  {
   "cell_type": "code",
   "execution_count": 17,
   "metadata": {
    "collapsed": true
   },
   "outputs": [],
   "source": [
    "reimbursements = pd.read_csv('../data/2017-03-15-reimbursements.xz',\n",
    "                             dtype={'cnpj_cpf': np.str},\n",
    "                             low_memory=False)\n",
    "reimbursements['issue_date'] = pd.to_datetime(reimbursements['issue_date'], errors='coerce')\n",
    "\n",
    "companies = pd.read_csv('../data/2016-09-03-companies.xz', low_memory=False)\n",
    "companies['cnpj'] = companies['cnpj'].str.replace(r'\\D', '')"
   ]
  },
  {
   "cell_type": "code",
   "execution_count": 18,
   "metadata": {
    "collapsed": true
   },
   "outputs": [],
   "source": [
    "reimbursements = reimbursements.merge(companies, left_on='cnpj_cpf', right_on='cnpj')"
   ]
  },
  {
   "cell_type": "markdown",
   "metadata": {},
   "source": [
    "To find out how to properly merge `presences` with `reimbursements`, we need to find a common column. `congressperson_name` could be used, but an ID would be better."
   ]
  },
  {
   "cell_type": "code",
   "execution_count": 19,
   "metadata": {},
   "outputs": [
    {
     "data": {
      "text/html": [
       "<div>\n",
       "<style>\n",
       "    .dataframe thead tr:only-child th {\n",
       "        text-align: right;\n",
       "    }\n",
       "\n",
       "    .dataframe thead th {\n",
       "        text-align: left;\n",
       "    }\n",
       "\n",
       "    .dataframe tbody tr th {\n",
       "        vertical-align: top;\n",
       "    }\n",
       "</style>\n",
       "<table border=\"1\" class=\"dataframe\">\n",
       "  <thead>\n",
       "    <tr style=\"text-align: right;\">\n",
       "      <th></th>\n",
       "      <th>date</th>\n",
       "      <th>registration</th>\n",
       "      <th>congressperson_name</th>\n",
       "      <th>session</th>\n",
       "      <th>presence</th>\n",
       "      <th>duration</th>\n",
       "    </tr>\n",
       "  </thead>\n",
       "  <tbody>\n",
       "    <tr>\n",
       "      <th>19293</th>\n",
       "      <td>2015-02-01 10:33:09</td>\n",
       "      <td>469</td>\n",
       "      <td>Takayama</td>\n",
       "      <td>SESSÃO PREPARATÓRIA Nº 001 - 01/02/2015</td>\n",
       "      <td>Presença</td>\n",
       "      <td>NaN</td>\n",
       "    </tr>\n",
       "  </tbody>\n",
       "</table>\n",
       "</div>"
      ],
      "text/plain": [
       "                      date  registration congressperson_name  \\\n",
       "19293  2015-02-01 10:33:09           469            Takayama   \n",
       "\n",
       "                                       session  presence  duration  \n",
       "19293  SESSÃO PREPARATÓRIA Nº 001 - 01/02/2015  Presença       NaN  "
      ]
     },
     "execution_count": 19,
     "metadata": {},
     "output_type": "execute_result"
    }
   ],
   "source": [
    "presences.drop_duplicates('registration').query('congressperson_name == \"Takayama\"')"
   ]
  },
  {
   "cell_type": "code",
   "execution_count": 20,
   "metadata": {},
   "outputs": [
    {
     "data": {
      "text/plain": [
       "year                             2009\n",
       "applicant_id                     1693\n",
       "document_id                   1576214\n",
       "reimbursement_value_total         NaN\n",
       "total_net_value                   120\n",
       "reimbursement_numbers            2912\n",
       "congressperson_name          TAKAYAMA\n",
       "congressperson_id               74385\n",
       "congressperson_document           469\n",
       "term                             2015\n",
       "Name: 121, dtype: object"
      ]
     },
     "execution_count": 20,
     "metadata": {},
     "output_type": "execute_result"
    }
   ],
   "source": [
    "reimbursements.query('congressperson_name == \"TAKAYAMA\"').iloc[0, :10]"
   ]
  },
  {
   "cell_type": "markdown",
   "metadata": {},
   "source": [
    "`registration` is the `congressperson_document` in reimbursements."
   ]
  },
  {
   "cell_type": "code",
   "execution_count": 21,
   "metadata": {},
   "outputs": [
    {
     "data": {
      "text/html": [
       "<div>\n",
       "<style>\n",
       "    .dataframe thead tr:only-child th {\n",
       "        text-align: right;\n",
       "    }\n",
       "\n",
       "    .dataframe thead th {\n",
       "        text-align: left;\n",
       "    }\n",
       "\n",
       "    .dataframe tbody tr th {\n",
       "        vertical-align: top;\n",
       "    }\n",
       "</style>\n",
       "<table border=\"1\" class=\"dataframe\">\n",
       "  <thead>\n",
       "    <tr style=\"text-align: right;\">\n",
       "      <th></th>\n",
       "      <th>congressperson_id</th>\n",
       "      <th>applicant_id</th>\n",
       "      <th>congressperson_document</th>\n",
       "      <th>congressperson_name</th>\n",
       "    </tr>\n",
       "  </thead>\n",
       "  <tbody>\n",
       "    <tr>\n",
       "      <th>121</th>\n",
       "      <td>74385.0</td>\n",
       "      <td>1693</td>\n",
       "      <td>469.0</td>\n",
       "      <td>TAKAYAMA</td>\n",
       "    </tr>\n",
       "  </tbody>\n",
       "</table>\n",
       "</div>"
      ],
      "text/plain": [
       "     congressperson_id  applicant_id  congressperson_document  \\\n",
       "121            74385.0          1693                    469.0   \n",
       "\n",
       "    congressperson_name  \n",
       "121            TAKAYAMA  "
      ]
     },
     "execution_count": 21,
     "metadata": {},
     "output_type": "execute_result"
    }
   ],
   "source": [
    "reimbursements.query('(congressperson_id == 469) | (applicant_id == 469) | (congressperson_document == 469)') \\\n",
    "    [['congressperson_id', 'applicant_id', 'congressperson_document', 'congressperson_name']] \\\n",
    "    .drop_duplicates('congressperson_name')"
   ]
  },
  {
   "cell_type": "code",
   "execution_count": 22,
   "metadata": {
    "collapsed": true
   },
   "outputs": [],
   "source": [
    "rows = (reimbursements['subquota_description'] == 'Congressperson meal') & \\\n",
    "            (-73.992222 < reimbursements['longitude']) & (reimbursements['longitude'] < -34.7916667) & \\\n",
    "            (-33.742222 < reimbursements['latitude']) & (reimbursements['latitude'] < 5.2722222) & \\\n",
    "            reimbursements[['congressperson_id', 'latitude', 'longitude']].notnull().all(axis=1)\n",
    "reimbursements = reimbursements[rows]"
   ]
  },
  {
   "cell_type": "code",
   "execution_count": 23,
   "metadata": {},
   "outputs": [
    {
     "data": {
      "text/plain": [
       "(172830, 259)"
      ]
     },
     "execution_count": 23,
     "metadata": {},
     "output_type": "execute_result"
    }
   ],
   "source": [
    "reimbursements.shape"
   ]
  },
  {
   "cell_type": "code",
   "execution_count": 24,
   "metadata": {},
   "outputs": [
    {
     "data": {
      "text/html": [
       "<div>\n",
       "<style>\n",
       "    .dataframe thead tr:only-child th {\n",
       "        text-align: right;\n",
       "    }\n",
       "\n",
       "    .dataframe thead th {\n",
       "        text-align: left;\n",
       "    }\n",
       "\n",
       "    .dataframe tbody tr th {\n",
       "        vertical-align: top;\n",
       "    }\n",
       "</style>\n",
       "<table border=\"1\" class=\"dataframe\">\n",
       "  <thead>\n",
       "    <tr style=\"text-align: right;\">\n",
       "      <th></th>\n",
       "      <th>congressperson_document</th>\n",
       "      <th>issue_date</th>\n",
       "      <th>sessions</th>\n",
       "      <th>duration</th>\n",
       "    </tr>\n",
       "  </thead>\n",
       "  <tbody>\n",
       "    <tr>\n",
       "      <th>0</th>\n",
       "      <td>1</td>\n",
       "      <td>2015-10-22</td>\n",
       "      <td>1.0</td>\n",
       "      <td>4.0</td>\n",
       "    </tr>\n",
       "    <tr>\n",
       "      <th>1</th>\n",
       "      <td>1</td>\n",
       "      <td>2015-10-29</td>\n",
       "      <td>1.0</td>\n",
       "      <td>4.0</td>\n",
       "    </tr>\n",
       "    <tr>\n",
       "      <th>2</th>\n",
       "      <td>1</td>\n",
       "      <td>2015-11-11</td>\n",
       "      <td>3.0</td>\n",
       "      <td>12.0</td>\n",
       "    </tr>\n",
       "    <tr>\n",
       "      <th>3</th>\n",
       "      <td>3</td>\n",
       "      <td>2015-02-03</td>\n",
       "      <td>2.0</td>\n",
       "      <td>9.0</td>\n",
       "    </tr>\n",
       "    <tr>\n",
       "      <th>4</th>\n",
       "      <td>3</td>\n",
       "      <td>2015-03-31</td>\n",
       "      <td>2.0</td>\n",
       "      <td>9.0</td>\n",
       "    </tr>\n",
       "  </tbody>\n",
       "</table>\n",
       "</div>"
      ],
      "text/plain": [
       "  congressperson_document issue_date  sessions  duration\n",
       "0                       1 2015-10-22       1.0       4.0\n",
       "1                       1 2015-10-29       1.0       4.0\n",
       "2                       1 2015-11-11       3.0      12.0\n",
       "3                       3 2015-02-03       2.0       9.0\n",
       "4                       3 2015-03-31       2.0       9.0"
      ]
     },
     "execution_count": 24,
     "metadata": {},
     "output_type": "execute_result"
    }
   ],
   "source": [
    "days_and_congresspeople = presence_overview \\\n",
    "    .rename(columns={'day': 'issue_date', 'registration': 'congressperson_document'}) \\\n",
    "    .merge(reimbursements[['issue_date', 'congressperson_document']])\n",
    "days_and_congresspeople.head()"
   ]
  },
  {
   "cell_type": "code",
   "execution_count": 25,
   "metadata": {},
   "outputs": [],
   "source": [
    "reimbursements = reimbursements.merge(days_and_congresspeople)\n",
    "reimbursements.drop_duplicates(inplace=True)"
   ]
  },
  {
   "cell_type": "code",
   "execution_count": 26,
   "metadata": {},
   "outputs": [
    {
     "data": {
      "text/html": [
       "<div>\n",
       "<style>\n",
       "    .dataframe thead tr:only-child th {\n",
       "        text-align: right;\n",
       "    }\n",
       "\n",
       "    .dataframe thead th {\n",
       "        text-align: left;\n",
       "    }\n",
       "\n",
       "    .dataframe tbody tr th {\n",
       "        vertical-align: top;\n",
       "    }\n",
       "</style>\n",
       "<table border=\"1\" class=\"dataframe\">\n",
       "  <thead>\n",
       "    <tr style=\"text-align: right;\">\n",
       "      <th></th>\n",
       "      <th>year</th>\n",
       "      <th>applicant_id</th>\n",
       "      <th>document_id</th>\n",
       "      <th>reimbursement_value_total</th>\n",
       "      <th>total_net_value</th>\n",
       "      <th>reimbursement_numbers</th>\n",
       "      <th>congressperson_name</th>\n",
       "      <th>congressperson_id</th>\n",
       "      <th>congressperson_document</th>\n",
       "      <th>term</th>\n",
       "      <th>...</th>\n",
       "      <th>secondary_activity_98_code</th>\n",
       "      <th>secondary_activity_99</th>\n",
       "      <th>secondary_activity_99_code</th>\n",
       "      <th>secondary_activity_9_code</th>\n",
       "      <th>latitude</th>\n",
       "      <th>longitude</th>\n",
       "      <th>latitude.1</th>\n",
       "      <th>longitude.1</th>\n",
       "      <th>sessions</th>\n",
       "      <th>duration</th>\n",
       "    </tr>\n",
       "  </thead>\n",
       "  <tbody>\n",
       "    <tr>\n",
       "      <th>25913</th>\n",
       "      <td>2016</td>\n",
       "      <td>2261</td>\n",
       "      <td>6048825</td>\n",
       "      <td>NaN</td>\n",
       "      <td>34.6</td>\n",
       "      <td>5501</td>\n",
       "      <td>KEIKO OTA</td>\n",
       "      <td>160659.0</td>\n",
       "      <td>356</td>\n",
       "      <td>2015.0</td>\n",
       "      <td>...</td>\n",
       "      <td>NaN</td>\n",
       "      <td>NaN</td>\n",
       "      <td>NaN</td>\n",
       "      <td>NaN</td>\n",
       "      <td>-23.543989</td>\n",
       "      <td>-46.645681</td>\n",
       "      <td>-23.543989</td>\n",
       "      <td>-46.645681</td>\n",
       "      <td>4.0</td>\n",
       "      <td>16.0</td>\n",
       "    </tr>\n",
       "  </tbody>\n",
       "</table>\n",
       "<p>1 rows × 261 columns</p>\n",
       "</div>"
      ],
      "text/plain": [
       "       year  applicant_id  document_id  reimbursement_value_total  \\\n",
       "25913  2016          2261      6048825                        NaN   \n",
       "\n",
       "       total_net_value reimbursement_numbers congressperson_name  \\\n",
       "25913             34.6                  5501           KEIKO OTA   \n",
       "\n",
       "       congressperson_id congressperson_document    term   ...     \\\n",
       "25913           160659.0                     356  2015.0   ...      \n",
       "\n",
       "      secondary_activity_98_code secondary_activity_99  \\\n",
       "25913                        NaN                   NaN   \n",
       "\n",
       "       secondary_activity_99_code  secondary_activity_9_code   latitude  \\\n",
       "25913                         NaN                        NaN -23.543989   \n",
       "\n",
       "       longitude latitude.1 longitude.1 sessions duration  \n",
       "25913 -46.645681 -23.543989  -46.645681      4.0     16.0  \n",
       "\n",
       "[1 rows x 261 columns]"
      ]
     },
     "execution_count": 26,
     "metadata": {},
     "output_type": "execute_result"
    }
   ],
   "source": [
    "reimbursements.query('document_id == 6048825')"
   ]
  },
  {
   "cell_type": "code",
   "execution_count": 27,
   "metadata": {
    "scrolled": true
   },
   "outputs": [
    {
     "data": {
      "text/html": [
       "<div>\n",
       "<style>\n",
       "    .dataframe thead tr:only-child th {\n",
       "        text-align: right;\n",
       "    }\n",
       "\n",
       "    .dataframe thead th {\n",
       "        text-align: left;\n",
       "    }\n",
       "\n",
       "    .dataframe tbody tr th {\n",
       "        vertical-align: top;\n",
       "    }\n",
       "</style>\n",
       "<table border=\"1\" class=\"dataframe\">\n",
       "  <thead>\n",
       "    <tr style=\"text-align: right;\">\n",
       "      <th></th>\n",
       "      <th>applicant_id</th>\n",
       "      <th>issue_date</th>\n",
       "      <th>meals_centroid</th>\n",
       "    </tr>\n",
       "  </thead>\n",
       "  <tbody>\n",
       "    <tr>\n",
       "      <th>0</th>\n",
       "      <td>19</td>\n",
       "      <td>2015-02-05</td>\n",
       "      <td>(-15.8044535, -47.8949176)</td>\n",
       "    </tr>\n",
       "    <tr>\n",
       "      <th>1</th>\n",
       "      <td>19</td>\n",
       "      <td>2015-03-04</td>\n",
       "      <td>(-15.8044535, -47.8949176)</td>\n",
       "    </tr>\n",
       "    <tr>\n",
       "      <th>2</th>\n",
       "      <td>19</td>\n",
       "      <td>2015-03-10</td>\n",
       "      <td>(-15.8044535, -47.8949176)</td>\n",
       "    </tr>\n",
       "    <tr>\n",
       "      <th>3</th>\n",
       "      <td>19</td>\n",
       "      <td>2015-03-17</td>\n",
       "      <td>(-15.8044535, -47.8949176)</td>\n",
       "    </tr>\n",
       "    <tr>\n",
       "      <th>4</th>\n",
       "      <td>19</td>\n",
       "      <td>2015-03-24</td>\n",
       "      <td>(-15.8420777, -47.8330014)</td>\n",
       "    </tr>\n",
       "  </tbody>\n",
       "</table>\n",
       "</div>"
      ],
      "text/plain": [
       "   applicant_id issue_date              meals_centroid\n",
       "0            19 2015-02-05  (-15.8044535, -47.8949176)\n",
       "1            19 2015-03-04  (-15.8044535, -47.8949176)\n",
       "2            19 2015-03-10  (-15.8044535, -47.8949176)\n",
       "3            19 2015-03-17  (-15.8044535, -47.8949176)\n",
       "4            19 2015-03-24  (-15.8420777, -47.8330014)"
      ]
     },
     "execution_count": 27,
     "metadata": {},
     "output_type": "execute_result"
    }
   ],
   "source": [
    "AGG_KEYS = ['applicant_id', 'issue_date']\n",
    "\n",
    "def expenses_centroid(rows):\n",
    "    return (sum(rows['latitude']) / len(rows['latitude']),\n",
    "            sum(rows['longitude']) / len(rows['longitude']))\n",
    "\n",
    "meals_distance_to_congress = reimbursements \\\n",
    "    .groupby(AGG_KEYS) \\\n",
    "    .apply(expenses_centroid) \\\n",
    "    .reset_index() \\\n",
    "    .rename(columns={0: 'meals_centroid'})\n",
    "meals_distance_to_congress.head()"
   ]
  },
  {
   "cell_type": "code",
   "execution_count": 28,
   "metadata": {},
   "outputs": [],
   "source": [
    "# meals_distance_to_congress['meals_centroid']"
   ]
  },
  {
   "cell_type": "code",
   "execution_count": 29,
   "metadata": {},
   "outputs": [],
   "source": [
    "from geopy.distance import vincenty as distance\n",
    "\n",
    "NATIONAL_CONGRESS_LOCATION = -15.7997067, -47.8663516\n",
    "\n",
    "meals_distance_to_congress['centroid_distance_to_congress'] = meals_distance_to_congress['meals_centroid'] \\\n",
    "    .apply(lambda centroid: distance(NATIONAL_CONGRESS_LOCATION, centroid).km)\n",
    "reimbursements = reimbursements.merge(meals_distance_to_congress)"
   ]
  },
  {
   "cell_type": "code",
   "execution_count": 37,
   "metadata": {},
   "outputs": [
    {
     "data": {
      "text/plain": [
       "(26383, 263)"
      ]
     },
     "execution_count": 37,
     "metadata": {},
     "output_type": "execute_result"
    }
   ],
   "source": [
    "reimbursements.shape"
   ]
  },
  {
   "cell_type": "code",
   "execution_count": 36,
   "metadata": {},
   "outputs": [
    {
     "data": {
      "image/png": "[encoded data removed]",
      "text/plain": [
       "<matplotlib.figure.Figure at 0x1374e7eb8>"
      ]
     },
     "metadata": {},
     "output_type": "display_data"
    }
   ],
   "source": [
    "import seaborn as sns\n",
    "\n",
    "sns.jointplot(data=reimbursements, x='duration', y='centroid_distance_to_congress', kind='reg', color='g')\n",
    "sns.plt.show()"
   ]
  },
  {
   "cell_type": "code",
   "execution_count": null,
   "metadata": {
    "collapsed": true
   },
   "outputs": [],
   "source": []
  }
 ],
 "metadata": {
  "kernelspec": {
   "display_name": "Python 3",
   "language": "python",
   "name": "python3"
  },
  "language_info": {
   "codemirror_mode": {
    "name": "ipython",
    "version": 3
   },
   "file_extension": ".py",
   "mimetype": "text/x-python",
   "name": "python",
   "nbconvert_exporter": "python",
   "pygments_lexer": "ipython3",
   "version": "3.6.1"
  }
 },
 "nbformat": 4,
 "nbformat_minor": 2
}
