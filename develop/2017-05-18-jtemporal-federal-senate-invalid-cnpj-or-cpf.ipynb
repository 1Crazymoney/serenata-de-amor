{
 "cells": [
  {
   "cell_type": "markdown",
   "metadata": {},
   "source": [
    "# Invalid CNPJ or CPF\n",
    "\n",
    "`cnpj_cpf` is the column identifying the company or individual who received the payment made by the congressperson. Having this value empty should mean that it's an expense made outside Brazil, with a company (or person) without a Brazilian ID."
   ]
  },
  {
   "cell_type": "code",
   "execution_count": null,
   "metadata": {},
   "outputs": [],
   "source": [
    "import numpy as np\n",
    "import pandas as pd\n",
    "\n",
    "dataset = pd.read_csv('../data/2017-05-17-federal-senate-reimbursements.xz',\n",
    "                      dtype={'cnpj_cpf': np.str}, encoding='utf-8')\n",
    "dataset.shape"
   ]
  },
  {
   "cell_type": "code",
   "execution_count": null,
   "metadata": {
    "collapsed": true
   },
   "outputs": [],
   "source": [
    "from pycpfcnpj import cpfcnpj\n",
    "\n",
    "def validate_cnpj_cpf(cnpj_or_cpf):\n",
    "    return (cnpj_or_cpf == None) | cpfcnpj.validate(cnpj_or_cpf)\n",
    "\n",
    "\n",
    "\n",
    "cnpj_cpf_list = dataset['cnpj_cpf'].astype(np.str).replace('nan', None)\n",
    "dataset['valid_cnpj_cpf'] = np.vectorize(validate_cnpj_cpf)(cnpj_cpf_list)"
   ]
  },
  {
   "cell_type": "markdown",
   "metadata": {},
   "source": [
    "`document_type` 2 means expenses made abroad."
   ]
  },
  {
   "cell_type": "code",
   "execution_count": null,
   "metadata": {},
   "outputs": [],
   "source": [
    "keys = ['year',\n",
    "        'applicant_id',\n",
    "        'document_id',\n",
    "        'total_net_value',\n",
    "        'cnpj_cpf',\n",
    "        'supplier',\n",
    "        'document_type']\n",
    "dataset.query('document_type != 2').loc[~dataset['valid_cnpj_cpf'], keys]"
   ]
  },
  {
   "cell_type": "markdown",
   "metadata": {},
   "source": [
    "With 1,532,491 records in the dataset and just 10 with invalid CNPJ/CPF, we can probably assume that the Chamber of Deputies has a validation in the tool where the congressperson requests for reimbursements. These represent a mistake in the implemented algorithm."
   ]
  },
  {
   "cell_type": "code",
   "execution_count": null,
   "metadata": {
    "collapsed": true
   },
   "outputs": [],
   "source": []
  }
 ],
 "metadata": {
  "kernelspec": {
   "display_name": "Python 3",
   "language": "python",
   "name": "python3"
  },
  "language_info": {
   "codemirror_mode": {
    "name": "ipython",
    "version": 3
   },
   "file_extension": ".py",
   "mimetype": "text/x-python",
   "name": "python",
   "nbconvert_exporter": "python",
   "pygments_lexer": "ipython3",
   "version": "3.6.1"
  }
 },
 "nbformat": 4,
 "nbformat_minor": 1
}
