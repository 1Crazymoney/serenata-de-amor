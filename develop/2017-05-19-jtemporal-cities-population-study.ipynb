{
 "cells": [
  {
   "cell_type": "markdown",
   "metadata": {},
   "source": [
    "# Introductory Data Exploration of Brazilian Cities\n",
    "In this dataset we have a population projection for each Brazilian city in the year of 2013.\n",
    "\n"
   ]
  },
  {
   "cell_type": "code",
   "execution_count": 1,
   "metadata": {},
   "outputs": [],
   "source": [
    "import pandas as pd\n",
    "import numpy as np\n",
    "\n",
    "\n",
    "cities = pd.read_excel('../data/Cidades - estimativa 2013.xlsx',\n",
    "                       dtype={'COD. UF': np.str, 'COD. MUNIC': str},\n",
    "                       sheetname=None, header=0)"
   ]
  },
  {
   "cell_type": "code",
   "execution_count": 2,
   "metadata": {},
   "outputs": [
    {
     "data": {
      "text/plain": [
       "(5584, 5)"
      ]
     },
     "execution_count": 2,
     "metadata": {},
     "output_type": "execute_result"
    }
   ],
   "source": [
    "data = pd.DataFrame()\n",
    "for key in cities.keys():\n",
    "    data = pd.concat([data, cities[key]])\n",
    "    \n",
    "data = data.reset_index(drop=True)\n",
    "data.shape"
   ]
  },
  {
   "cell_type": "markdown",
   "metadata": {},
   "source": [
    "We should see 5570 rows because that's the number of cities that IBGE says that Brazil have. The different amount of rows leads me to believe there are metadata from the `.xlsx` messing with our data"
   ]
  },
  {
   "cell_type": "markdown",
   "metadata": {},
   "source": [
    "## Translating column names"
   ]
  },
  {
   "cell_type": "code",
   "execution_count": 3,
   "metadata": {},
   "outputs": [
    {
     "data": {
      "text/html": [
       "<div>\n",
       "<style>\n",
       "    .dataframe thead tr:only-child th {\n",
       "        text-align: right;\n",
       "    }\n",
       "\n",
       "    .dataframe thead th {\n",
       "        text-align: left;\n",
       "    }\n",
       "\n",
       "    .dataframe tbody tr th {\n",
       "        vertical-align: top;\n",
       "    }\n",
       "</style>\n",
       "<table border=\"1\" class=\"dataframe\">\n",
       "  <thead>\n",
       "    <tr style=\"text-align: right;\">\n",
       "      <th></th>\n",
       "      <th>state</th>\n",
       "      <th>state_id</th>\n",
       "      <th>city_id</th>\n",
       "      <th>city_name</th>\n",
       "      <th>population_projection</th>\n",
       "    </tr>\n",
       "  </thead>\n",
       "  <tbody>\n",
       "    <tr>\n",
       "      <th>0</th>\n",
       "      <td>RO</td>\n",
       "      <td>11</td>\n",
       "      <td>15</td>\n",
       "      <td>Alta Floresta D'Oeste</td>\n",
       "      <td>25728</td>\n",
       "    </tr>\n",
       "    <tr>\n",
       "      <th>1</th>\n",
       "      <td>RO</td>\n",
       "      <td>11</td>\n",
       "      <td>379</td>\n",
       "      <td>Alto Alegre dos Parecis</td>\n",
       "      <td>13827</td>\n",
       "    </tr>\n",
       "    <tr>\n",
       "      <th>2</th>\n",
       "      <td>RO</td>\n",
       "      <td>11</td>\n",
       "      <td>403</td>\n",
       "      <td>Alto Paraíso</td>\n",
       "      <td>19459</td>\n",
       "    </tr>\n",
       "    <tr>\n",
       "      <th>3</th>\n",
       "      <td>RO</td>\n",
       "      <td>11</td>\n",
       "      <td>346</td>\n",
       "      <td>Alvorada D'Oeste</td>\n",
       "      <td>17399</td>\n",
       "    </tr>\n",
       "    <tr>\n",
       "      <th>4</th>\n",
       "      <td>RO</td>\n",
       "      <td>11</td>\n",
       "      <td>23</td>\n",
       "      <td>Ariquemes</td>\n",
       "      <td>101269</td>\n",
       "    </tr>\n",
       "  </tbody>\n",
       "</table>\n",
       "</div>"
      ],
      "text/plain": [
       "  state state_id city_id                city_name population_projection\n",
       "0    RO       11      15    Alta Floresta D'Oeste                 25728\n",
       "1    RO       11     379  Alto Alegre dos Parecis                 13827\n",
       "2    RO       11     403             Alto Paraíso                 19459\n",
       "3    RO       11     346         Alvorada D'Oeste                 17399\n",
       "4    RO       11      23                Ariquemes                101269"
      ]
     },
     "execution_count": 3,
     "metadata": {},
     "output_type": "execute_result"
    }
   ],
   "source": [
    "data.rename(columns={\n",
    "        'UF': 'state',\n",
    "        'COD. UF': 'state_id',\n",
    "        'COD. MUNIC': 'city_id',\n",
    "        'NOME DO MUNICÍPIO': 'city_name',\n",
    "        'POPULAÇÃO ESTIMADA': 'population_projection'\n",
    "    }, inplace=True)\n",
    "data.head()"
   ]
  },
  {
   "cell_type": "markdown",
   "metadata": {},
   "source": [
    "## Formating `city_id`\n",
    "\n",
    "Formatting `city_id` to conform with the ids displayed on the Brazilian cesus files"
   ]
  },
  {
   "cell_type": "code",
   "execution_count": 4,
   "metadata": {},
   "outputs": [],
   "source": [
    "data['city_id'] = data['city_id'].apply(lambda x: x.zfill(5))"
   ]
  },
  {
   "cell_type": "markdown",
   "metadata": {},
   "source": [
    "## Checking out a `unique_id` for each city"
   ]
  },
  {
   "cell_type": "code",
   "execution_count": 5,
   "metadata": {},
   "outputs": [
    {
     "data": {
      "text/html": [
       "<div>\n",
       "<style>\n",
       "    .dataframe thead tr:only-child th {\n",
       "        text-align: right;\n",
       "    }\n",
       "\n",
       "    .dataframe thead th {\n",
       "        text-align: left;\n",
       "    }\n",
       "\n",
       "    .dataframe tbody tr th {\n",
       "        vertical-align: top;\n",
       "    }\n",
       "</style>\n",
       "<table border=\"1\" class=\"dataframe\">\n",
       "  <thead>\n",
       "    <tr style=\"text-align: right;\">\n",
       "      <th></th>\n",
       "      <th>state</th>\n",
       "      <th>state_id</th>\n",
       "      <th>city_id</th>\n",
       "      <th>city_name</th>\n",
       "      <th>population_projection</th>\n",
       "    </tr>\n",
       "  </thead>\n",
       "  <tbody>\n",
       "    <tr>\n",
       "      <th>1831</th>\n",
       "      <td>BA</td>\n",
       "      <td>29</td>\n",
       "      <td>00108</td>\n",
       "      <td>Abaíra</td>\n",
       "      <td>9132</td>\n",
       "    </tr>\n",
       "    <tr>\n",
       "      <th>5583</th>\n",
       "      <td>DF</td>\n",
       "      <td>53</td>\n",
       "      <td>00108</td>\n",
       "      <td>Brasília</td>\n",
       "      <td>2789761</td>\n",
       "    </tr>\n",
       "  </tbody>\n",
       "</table>\n",
       "</div>"
      ],
      "text/plain": [
       "     state state_id city_id city_name population_projection\n",
       "1831    BA       29   00108    Abaíra                  9132\n",
       "5583    DF       53   00108  Brasília               2789761"
      ]
     },
     "execution_count": 5,
     "metadata": {},
     "output_type": "execute_result"
    }
   ],
   "source": [
    "data[data['city_id'] == '00108']"
   ]
  },
  {
   "cell_type": "code",
   "execution_count": 6,
   "metadata": {},
   "outputs": [
    {
     "data": {
      "text/html": [
       "<div>\n",
       "<style>\n",
       "    .dataframe thead tr:only-child th {\n",
       "        text-align: right;\n",
       "    }\n",
       "\n",
       "    .dataframe thead th {\n",
       "        text-align: left;\n",
       "    }\n",
       "\n",
       "    .dataframe tbody tr th {\n",
       "        vertical-align: top;\n",
       "    }\n",
       "</style>\n",
       "<table border=\"1\" class=\"dataframe\">\n",
       "  <thead>\n",
       "    <tr style=\"text-align: right;\">\n",
       "      <th></th>\n",
       "      <th>state_id</th>\n",
       "      <th>city_id</th>\n",
       "      <th>ids</th>\n",
       "    </tr>\n",
       "  </thead>\n",
       "  <tbody>\n",
       "    <tr>\n",
       "      <th>0</th>\n",
       "      <td>11</td>\n",
       "      <td>00015</td>\n",
       "      <td>1100015</td>\n",
       "    </tr>\n",
       "    <tr>\n",
       "      <th>1</th>\n",
       "      <td>11</td>\n",
       "      <td>00379</td>\n",
       "      <td>1100379</td>\n",
       "    </tr>\n",
       "    <tr>\n",
       "      <th>2</th>\n",
       "      <td>11</td>\n",
       "      <td>00403</td>\n",
       "      <td>1100403</td>\n",
       "    </tr>\n",
       "    <tr>\n",
       "      <th>3</th>\n",
       "      <td>11</td>\n",
       "      <td>00346</td>\n",
       "      <td>1100346</td>\n",
       "    </tr>\n",
       "    <tr>\n",
       "      <th>4</th>\n",
       "      <td>11</td>\n",
       "      <td>00023</td>\n",
       "      <td>1100023</td>\n",
       "    </tr>\n",
       "  </tbody>\n",
       "</table>\n",
       "</div>"
      ],
      "text/plain": [
       "  state_id city_id      ids\n",
       "0       11   00015  1100015\n",
       "1       11   00379  1100379\n",
       "2       11   00403  1100403\n",
       "3       11   00346  1100346\n",
       "4       11   00023  1100023"
      ]
     },
     "execution_count": 6,
     "metadata": {},
     "output_type": "execute_result"
    }
   ],
   "source": [
    "UNIQUE_IDS = data.loc[:,['state_id', 'city_id']]\n",
    "\n",
    "for i in range(len(UNIQUE_IDS['state_id'])):\n",
    "    UNIQUE_IDS.loc[i,'ids'] = '{}{}'.format(UNIQUE_IDS.loc[i,'state_id'],\n",
    "                                              UNIQUE_IDS.loc[i,'city_id'])\n",
    "\n",
    "UNIQUE_IDS.head()"
   ]
  },
  {
   "cell_type": "code",
   "execution_count": 7,
   "metadata": {},
   "outputs": [
    {
     "data": {
      "text/plain": [
       "5570"
      ]
     },
     "execution_count": 7,
     "metadata": {},
     "output_type": "execute_result"
    }
   ],
   "source": [
    "len(set(UNIQUE_IDS['ids']))"
   ]
  },
  {
   "cell_type": "code",
   "execution_count": 8,
   "metadata": {},
   "outputs": [
    {
     "data": {
      "text/plain": [
       "(5584, 3)"
      ]
     },
     "execution_count": 8,
     "metadata": {},
     "output_type": "execute_result"
    }
   ],
   "source": [
    "UNIQUE_IDS.shape"
   ]
  },
  {
   "cell_type": "code",
   "execution_count": 9,
   "metadata": {},
   "outputs": [],
   "source": [
    "brazilian_states = {'RO': 'rondonia',\n",
    "                    'AC': 'acre',\n",
    "                    'AM': 'amazonas',\n",
    "                    'RR': 'roraima',\n",
    "                    'PA': 'para',\n",
    "                    'AP': 'amapa',\n",
    "                    'TO': 'tocantis',\n",
    "                    'MA': 'maranhao',\n",
    "                    'PI': 'piaui',\n",
    "                    'CE': 'ceara',\n",
    "                    'RN': 'rio_grande_do_norte',\n",
    "                    'PB': 'paraiba',\n",
    "                    'PE': 'pernambuco',\n",
    "                    'AL': 'alagoas',\n",
    "                    'SE': 'sergipe',\n",
    "                    'BA': 'bahia',\n",
    "                    'MG': 'mina_gerais',\n",
    "                    'ES': 'epirito_santo',\n",
    "                    'RJ': 'rio_de_janeiro',\n",
    "                    'SP': 'sao_paulo',\n",
    "                    'PR': 'parana',\n",
    "                    'SC': 'santa_catarina', \n",
    "                    'RS': 'rio_grande_do_sul',\n",
    "                    'MS': 'mato_grosso_do_sul',\n",
    "                    'MT': 'mato_grosso',\n",
    "                    'GO': 'goias',\n",
    "                    'DF': 'distrito_federal'}\n",
    "\n",
    "census_link = \"ftp.ibge.gov.br/Censos/Censo_Demografico_2010/resultados/total_populacao_{}.zip\""
   ]
  },
  {
   "cell_type": "code",
   "execution_count": null,
   "metadata": {},
   "outputs": [],
   "source": []
  },
  {
   "cell_type": "code",
   "execution_count": null,
   "metadata": {
    "collapsed": true
   },
   "outputs": [],
   "source": []
  }
 ],
 "metadata": {
  "kernelspec": {
   "display_name": "Python 3",
   "language": "python",
   "name": "python3"
  },
  "language_info": {
   "codemirror_mode": {
    "name": "ipython",
    "version": 3
   },
   "file_extension": ".py",
   "mimetype": "text/x-python",
   "name": "python",
   "nbconvert_exporter": "python",
   "pygments_lexer": "ipython3",
   "version": "3.6.1"
  }
 },
 "nbformat": 4,
 "nbformat_minor": 2
}
