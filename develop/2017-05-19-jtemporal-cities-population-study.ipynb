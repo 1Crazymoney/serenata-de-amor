{
 "cells": [
  {
   "cell_type": "markdown",
   "metadata": {},
   "source": [
    "# Introductory Data Exploration of Brazilian Cities\n",
    "In this dataset we have a population projection for each Brazilian city in the year of 2013.\n",
    "\n"
   ]
  },
  {
   "cell_type": "code",
   "execution_count": 1,
   "metadata": {},
   "outputs": [],
   "source": [
    "import pandas as pd\n",
    "import numpy as np\n",
    "\n",
    "# We first collected the data with population estimatives, \n",
    "# we can use it later to do some comparisions or to use it later\n",
    "cities = pd.read_excel('../data/Cidades - estimativa 2013.xlsx',\n",
    "                       converters={'COD. UF': np.str, 'COD. MUNIC': np.str},\n",
    "                       sheetname=None, header=0)"
   ]
  },
  {
   "cell_type": "code",
   "execution_count": 2,
   "metadata": {},
   "outputs": [
    {
     "data": {
      "text/plain": [
       "(5584, 5)"
      ]
     },
     "execution_count": 2,
     "metadata": {},
     "output_type": "execute_result"
    }
   ],
   "source": [
    "data = pd.DataFrame()\n",
    "for key in cities.keys():\n",
    "    data = pd.concat([data, cities[key]])\n",
    "    \n",
    "data = data.reset_index(drop=True)\n",
    "data.shape"
   ]
  },
  {
   "cell_type": "markdown",
   "metadata": {},
   "source": [
    "We should see 5570 rows because that's the number of cities that IBGE says that Brazil have. The different amount of rows leads me to believe there are metadata from the `.xlsx` messing with our data"
   ]
  },
  {
   "cell_type": "markdown",
   "metadata": {},
   "source": [
    "## Translating column names"
   ]
  },
  {
   "cell_type": "code",
   "execution_count": 3,
   "metadata": {},
   "outputs": [
    {
     "data": {
      "text/html": [
       "<div>\n",
       "<table border=\"1\" class=\"dataframe\">\n",
       "  <thead>\n",
       "    <tr style=\"text-align: right;\">\n",
       "      <th></th>\n",
       "      <th>state</th>\n",
       "      <th>state_id</th>\n",
       "      <th>city_id</th>\n",
       "      <th>city_name</th>\n",
       "      <th>population_projection</th>\n",
       "    </tr>\n",
       "  </thead>\n",
       "  <tbody>\n",
       "    <tr>\n",
       "      <th>0</th>\n",
       "      <td>TO</td>\n",
       "      <td>17</td>\n",
       "      <td>251</td>\n",
       "      <td>Abreulândia</td>\n",
       "      <td>2506</td>\n",
       "    </tr>\n",
       "    <tr>\n",
       "      <th>1</th>\n",
       "      <td>TO</td>\n",
       "      <td>17</td>\n",
       "      <td>301</td>\n",
       "      <td>Aguiarnópolis</td>\n",
       "      <td>5820</td>\n",
       "    </tr>\n",
       "    <tr>\n",
       "      <th>2</th>\n",
       "      <td>TO</td>\n",
       "      <td>17</td>\n",
       "      <td>350</td>\n",
       "      <td>Aliança do Tocantins</td>\n",
       "      <td>5686</td>\n",
       "    </tr>\n",
       "    <tr>\n",
       "      <th>3</th>\n",
       "      <td>TO</td>\n",
       "      <td>17</td>\n",
       "      <td>400</td>\n",
       "      <td>Almas</td>\n",
       "      <td>7553</td>\n",
       "    </tr>\n",
       "    <tr>\n",
       "      <th>4</th>\n",
       "      <td>TO</td>\n",
       "      <td>17</td>\n",
       "      <td>707</td>\n",
       "      <td>Alvorada</td>\n",
       "      <td>8557</td>\n",
       "    </tr>\n",
       "  </tbody>\n",
       "</table>\n",
       "</div>"
      ],
      "text/plain": [
       "  state state_id city_id             city_name population_projection\n",
       "0    TO       17     251           Abreulândia                  2506\n",
       "1    TO       17     301         Aguiarnópolis                  5820\n",
       "2    TO       17     350  Aliança do Tocantins                  5686\n",
       "3    TO       17     400                 Almas                  7553\n",
       "4    TO       17     707              Alvorada                  8557"
      ]
     },
     "execution_count": 3,
     "metadata": {},
     "output_type": "execute_result"
    }
   ],
   "source": [
    "data.rename(columns={\n",
    "        'UF': 'state',\n",
    "        'COD. UF': 'state_id',\n",
    "        'COD. MUNIC': 'city_id',\n",
    "        'NOME DO MUNICÍPIO': 'city_name',\n",
    "        'POPULAÇÃO ESTIMADA': 'population_projection'\n",
    "    }, inplace=True)\n",
    "data.head()"
   ]
  },
  {
   "cell_type": "markdown",
   "metadata": {},
   "source": [
    "## Formating `city_id`\n",
    "\n",
    "Formatting `city_id` to conform with the ids displayed on the Brazilian cesus files"
   ]
  },
  {
   "cell_type": "code",
   "execution_count": 4,
   "metadata": {
    "collapsed": true
   },
   "outputs": [],
   "source": [
    "data['city_id'] = data['city_id'].apply(lambda x: x.zfill(5))"
   ]
  },
  {
   "cell_type": "markdown",
   "metadata": {},
   "source": [
    "## Checking out a `unique_id` for each city"
   ]
  },
  {
   "cell_type": "code",
   "execution_count": 5,
   "metadata": {},
   "outputs": [
    {
     "data": {
      "text/html": [
       "<div>\n",
       "<table border=\"1\" class=\"dataframe\">\n",
       "  <thead>\n",
       "    <tr style=\"text-align: right;\">\n",
       "      <th></th>\n",
       "      <th>state</th>\n",
       "      <th>state_id</th>\n",
       "      <th>city_id</th>\n",
       "      <th>city_name</th>\n",
       "      <th>population_projection</th>\n",
       "    </tr>\n",
       "  </thead>\n",
       "  <tbody>\n",
       "    <tr>\n",
       "      <th>4283</th>\n",
       "      <td>DF</td>\n",
       "      <td>53</td>\n",
       "      <td>00108</td>\n",
       "      <td>Brasília</td>\n",
       "      <td>2789761</td>\n",
       "    </tr>\n",
       "    <tr>\n",
       "      <th>4671</th>\n",
       "      <td>BA</td>\n",
       "      <td>29</td>\n",
       "      <td>00108</td>\n",
       "      <td>Abaíra</td>\n",
       "      <td>9132</td>\n",
       "    </tr>\n",
       "  </tbody>\n",
       "</table>\n",
       "</div>"
      ],
      "text/plain": [
       "     state state_id city_id city_name population_projection\n",
       "4283    DF       53   00108  Brasília               2789761\n",
       "4671    BA       29   00108    Abaíra                  9132"
      ]
     },
     "execution_count": 5,
     "metadata": {},
     "output_type": "execute_result"
    }
   ],
   "source": [
    "data[data['city_id'] == '00108']"
   ]
  },
  {
   "cell_type": "code",
   "execution_count": 6,
   "metadata": {},
   "outputs": [
    {
     "data": {
      "text/html": [
       "<div>\n",
       "<table border=\"1\" class=\"dataframe\">\n",
       "  <thead>\n",
       "    <tr style=\"text-align: right;\">\n",
       "      <th></th>\n",
       "      <th>state_id</th>\n",
       "      <th>city_id</th>\n",
       "      <th>ids</th>\n",
       "    </tr>\n",
       "  </thead>\n",
       "  <tbody>\n",
       "    <tr>\n",
       "      <th>0</th>\n",
       "      <td>17</td>\n",
       "      <td>00251</td>\n",
       "      <td>1700251</td>\n",
       "    </tr>\n",
       "    <tr>\n",
       "      <th>1</th>\n",
       "      <td>17</td>\n",
       "      <td>00301</td>\n",
       "      <td>1700301</td>\n",
       "    </tr>\n",
       "    <tr>\n",
       "      <th>2</th>\n",
       "      <td>17</td>\n",
       "      <td>00350</td>\n",
       "      <td>1700350</td>\n",
       "    </tr>\n",
       "    <tr>\n",
       "      <th>3</th>\n",
       "      <td>17</td>\n",
       "      <td>00400</td>\n",
       "      <td>1700400</td>\n",
       "    </tr>\n",
       "    <tr>\n",
       "      <th>4</th>\n",
       "      <td>17</td>\n",
       "      <td>00707</td>\n",
       "      <td>1700707</td>\n",
       "    </tr>\n",
       "  </tbody>\n",
       "</table>\n",
       "</div>"
      ],
      "text/plain": [
       "  state_id city_id      ids\n",
       "0       17   00251  1700251\n",
       "1       17   00301  1700301\n",
       "2       17   00350  1700350\n",
       "3       17   00400  1700400\n",
       "4       17   00707  1700707"
      ]
     },
     "execution_count": 6,
     "metadata": {},
     "output_type": "execute_result"
    }
   ],
   "source": [
    "UNIQUE_IDS = data.loc[:,['state_id', 'city_id']]\n",
    "\n",
    "for i in range(len(UNIQUE_IDS['state_id'])):\n",
    "    UNIQUE_IDS.loc[i,'ids'] = '{}{}'.format(UNIQUE_IDS.loc[i,'state_id'],\n",
    "                                              UNIQUE_IDS.loc[i,'city_id'])\n",
    "\n",
    "UNIQUE_IDS.head()"
   ]
  },
  {
   "cell_type": "code",
   "execution_count": 7,
   "metadata": {},
   "outputs": [
    {
     "data": {
      "text/plain": [
       "5570"
      ]
     },
     "execution_count": 7,
     "metadata": {},
     "output_type": "execute_result"
    }
   ],
   "source": [
    "len(set(UNIQUE_IDS['ids']))"
   ]
  },
  {
   "cell_type": "code",
   "execution_count": 8,
   "metadata": {},
   "outputs": [
    {
     "data": {
      "text/plain": [
       "(5584, 3)"
      ]
     },
     "execution_count": 8,
     "metadata": {},
     "output_type": "execute_result"
    }
   ],
   "source": [
    "UNIQUE_IDS.shape"
   ]
  },
  {
   "cell_type": "code",
   "execution_count": 9,
   "metadata": {
    "collapsed": true
   },
   "outputs": [],
   "source": [
    "brazilian_states = {'RO': 'rondonia',\n",
    "                    'AC': 'acre',\n",
    "                    'AM': 'amazonas',\n",
    "                    'RR': 'roraima',\n",
    "                    'PA': 'para',\n",
    "                    'AP': 'amapa',\n",
    "                    'TO': 'tocantis',\n",
    "                    'MA': 'maranhao',\n",
    "                    'PI': 'piaui',\n",
    "                    'CE': 'ceara',\n",
    "                    'RN': 'rio_grande_do_norte',\n",
    "                    'PB': 'paraiba',\n",
    "                    'PE': 'pernambuco',\n",
    "                    'AL': 'alagoas',\n",
    "                    'SE': 'sergipe',\n",
    "                    'BA': 'bahia',\n",
    "                    'MG': 'mina_gerais',\n",
    "                    'ES': 'epirito_santo',\n",
    "                    'RJ': 'rio_de_janeiro',\n",
    "                    'SP': 'sao_paulo',\n",
    "                    'PR': 'parana',\n",
    "                    'SC': 'santa_catarina', \n",
    "                    'RS': 'rio_grande_do_sul',\n",
    "                    'MS': 'mato_grosso_do_sul',\n",
    "                    'MT': 'mato_grosso',\n",
    "                    'GO': 'goias',\n",
    "                    'DF': 'distrito_federal'}\n",
    "\n",
    "census_link = \"ftp.ibge.gov.br/Censos/Censo_Demografico_2010/resultados/total_populacao_{}.zip\""
   ]
  },
  {
   "cell_type": "code",
   "execution_count": 10,
   "metadata": {},
   "outputs": [
    {
     "name": "stderr",
     "output_type": "stream",
     "text": [
      "Downloading 2017-05-22-brazilian-cities.csv: 100%|██████████| 134K/134K [00:01<00:00, 72.8Kb/s]\n"
     ]
    }
   ],
   "source": [
    "from serenata_toolbox.datasets import fetch\n",
    "fetch('2017-05-22-brazilian-cities.csv', '../data')"
   ]
  },
  {
   "cell_type": "code",
   "execution_count": 11,
   "metadata": {},
   "outputs": [
    {
     "data": {
      "text/html": [
       "<div>\n",
       "<table border=\"1\" class=\"dataframe\">\n",
       "  <thead>\n",
       "    <tr style=\"text-align: right;\">\n",
       "      <th></th>\n",
       "      <th>code</th>\n",
       "      <th>name</th>\n",
       "      <th>state</th>\n",
       "    </tr>\n",
       "  </thead>\n",
       "  <tbody>\n",
       "    <tr>\n",
       "      <th>0</th>\n",
       "      <td>520005</td>\n",
       "      <td>Abadia de Goiás</td>\n",
       "      <td>GO</td>\n",
       "    </tr>\n",
       "    <tr>\n",
       "      <th>1</th>\n",
       "      <td>310010</td>\n",
       "      <td>Abadia dos Dourados</td>\n",
       "      <td>MG</td>\n",
       "    </tr>\n",
       "    <tr>\n",
       "      <th>2</th>\n",
       "      <td>520010</td>\n",
       "      <td>Abadiânia</td>\n",
       "      <td>GO</td>\n",
       "    </tr>\n",
       "    <tr>\n",
       "      <th>3</th>\n",
       "      <td>150010</td>\n",
       "      <td>Abaetetuba</td>\n",
       "      <td>PA</td>\n",
       "    </tr>\n",
       "    <tr>\n",
       "      <th>4</th>\n",
       "      <td>310020</td>\n",
       "      <td>Abaeté</td>\n",
       "      <td>MG</td>\n",
       "    </tr>\n",
       "  </tbody>\n",
       "</table>\n",
       "</div>"
      ],
      "text/plain": [
       "     code                 name state\n",
       "0  520005      Abadia de Goiás    GO\n",
       "1  310010  Abadia dos Dourados    MG\n",
       "2  520010            Abadiânia    GO\n",
       "3  150010           Abaetetuba    PA\n",
       "4  310020               Abaeté    MG"
      ]
     },
     "execution_count": 11,
     "metadata": {},
     "output_type": "execute_result"
    }
   ],
   "source": [
    "brazilian_cities = pd.read_csv('../data/2017-05-22-brazilian-cities.csv')\n",
    "brazilian_cities.head()"
   ]
  },
  {
   "cell_type": "code",
   "execution_count": 12,
   "metadata": {},
   "outputs": [
    {
     "data": {
      "text/plain": [
       "(5570, 3)"
      ]
     },
     "execution_count": 12,
     "metadata": {},
     "output_type": "execute_result"
    }
   ],
   "source": [
    "brazilian_cities.shape"
   ]
  },
  {
   "cell_type": "code",
   "execution_count": 13,
   "metadata": {},
   "outputs": [],
   "source": [
    "brazilian_cities['state'] = brazilian_cities['state'].apply(lambda x: x.lower())"
   ]
  },
  {
   "cell_type": "code",
   "execution_count": 14,
   "metadata": {},
   "outputs": [],
   "source": [
    "import unicodedata\n",
    "\n",
    "def normalize_string(string):\n",
    "    if isinstance(string, str):\n",
    "        nfkd_form = unicodedata.normalize('NFKD', string.lower())\n",
    "        return nfkd_form.encode('ASCII', 'ignore').decode('utf-8')"
   ]
  },
  {
   "cell_type": "code",
   "execution_count": 15,
   "metadata": {},
   "outputs": [],
   "source": [
    "brazilian_cities['normalized_name'] = brazilian_cities['name'].apply(lambda x: normalize_string(x))\n",
    "brazilian_cities['normalized_name'] = brazilian_cities['normalized_name'].apply(lambda x: x.replace(' ', ''))"
   ]
  },
  {
   "cell_type": "code",
   "execution_count": 16,
   "metadata": {},
   "outputs": [
    {
     "data": {
      "text/html": [
       "<div>\n",
       "<table border=\"1\" class=\"dataframe\">\n",
       "  <thead>\n",
       "    <tr style=\"text-align: right;\">\n",
       "      <th></th>\n",
       "      <th>code</th>\n",
       "      <th>name</th>\n",
       "      <th>state</th>\n",
       "      <th>normalized_name</th>\n",
       "    </tr>\n",
       "  </thead>\n",
       "  <tbody>\n",
       "    <tr>\n",
       "      <th>0</th>\n",
       "      <td>520005</td>\n",
       "      <td>Abadia de Goiás</td>\n",
       "      <td>go</td>\n",
       "      <td>abadiadegoias</td>\n",
       "    </tr>\n",
       "    <tr>\n",
       "      <th>1</th>\n",
       "      <td>310010</td>\n",
       "      <td>Abadia dos Dourados</td>\n",
       "      <td>mg</td>\n",
       "      <td>abadiadosdourados</td>\n",
       "    </tr>\n",
       "    <tr>\n",
       "      <th>2</th>\n",
       "      <td>520010</td>\n",
       "      <td>Abadiânia</td>\n",
       "      <td>go</td>\n",
       "      <td>abadiania</td>\n",
       "    </tr>\n",
       "    <tr>\n",
       "      <th>3</th>\n",
       "      <td>150010</td>\n",
       "      <td>Abaetetuba</td>\n",
       "      <td>pa</td>\n",
       "      <td>abaetetuba</td>\n",
       "    </tr>\n",
       "    <tr>\n",
       "      <th>4</th>\n",
       "      <td>310020</td>\n",
       "      <td>Abaeté</td>\n",
       "      <td>mg</td>\n",
       "      <td>abaete</td>\n",
       "    </tr>\n",
       "  </tbody>\n",
       "</table>\n",
       "</div>"
      ],
      "text/plain": [
       "     code                 name state    normalized_name\n",
       "0  520005      Abadia de Goiás    go      abadiadegoias\n",
       "1  310010  Abadia dos Dourados    mg  abadiadosdourados\n",
       "2  520010            Abadiânia    go          abadiania\n",
       "3  150010           Abaetetuba    pa         abaetetuba\n",
       "4  310020               Abaeté    mg             abaete"
      ]
     },
     "execution_count": 16,
     "metadata": {},
     "output_type": "execute_result"
    }
   ],
   "source": [
    "brazilian_cities.head()"
   ]
  },
  {
   "cell_type": "markdown",
   "metadata": {},
   "source": [
    "## Getting all cities that are part of Transparency Portal\n",
    "\n",
    "There are some cities that we already know that have a page with transparency and open data. The main object here is to find how many cities have that.\n",
    "\n",
    "Pattern: `{city}-{state}.portaltp.com.br`"
   ]
  },
  {
   "cell_type": "code",
   "execution_count": null,
   "metadata": {},
   "outputs": [],
   "source": [
    "from requests import head\n",
    "\n",
    "def get_status(name, state):\n",
    "    return head('https://{}-{}.portaltp.com.br/'.format(name, state)).status_code\n",
    "    \n",
    "status = get_status('colatina', 'es')\n",
    "\n",
    "print(status)\n",
    "\n",
    "brazilian_cities['status_portaltp'] = brazilian_cities[['normalized_name', 'state']].apply(lambda x: get_status(x['normalized_name'], x['state']))"
   ]
  }
 ],
 "metadata": {
  "kernelspec": {
   "display_name": "Python 3",
   "language": "python",
   "name": "python3"
  },
  "language_info": {
   "codemirror_mode": {
    "name": "ipython",
    "version": 3
   },
   "file_extension": ".py",
   "mimetype": "text/x-python",
   "name": "python",
   "nbconvert_exporter": "python",
   "pygments_lexer": "ipython3",
   "version": "3.6.1"
  }
 },
 "nbformat": 4,
 "nbformat_minor": 2
}
