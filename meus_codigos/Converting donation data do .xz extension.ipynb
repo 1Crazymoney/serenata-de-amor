{
 "cells": [
  {
   "cell_type": "code",
   "execution_count": null,
   "metadata": {
    "collapsed": true
   },
   "outputs": [],
   "source": [
    "import pandas as pd\n",
    "import urllib.request\n",
    "import os        \n",
    "import sys\n",
    "import zipfile\n",
    "import time"
   ]
  },
  {
   "cell_type": "code",
   "execution_count": null,
   "metadata": {
    "collapsed": true
   },
   "outputs": [],
   "source": [
    "def reporthook(blocknum, blocksize, totalsize):\n",
    "    readsofar = blocknum * blocksize\n",
    "    if totalsize > 0:\n",
    "        percent = readsofar * 1e2 / totalsize\n",
    "        s = \"\\r%5.1f%% %*d / %d\" % (\n",
    "            percent, len(str(totalsize)), readsofar, totalsize)\n",
    "        sys.stderr.write(s)\n",
    "        if readsofar >= totalsize: # near the end\n",
    "            sys.stderr.write(\"\\n\")\n",
    "    else: # total size is unknown\n",
    "        sys.stderr.write(\"read %d\\n\" % (readsofar,))"
   ]
  },
  {
   "cell_type": "code",
   "execution_count": null,
   "metadata": {
    "collapsed": false
   },
   "outputs": [],
   "source": [
    "url = 'http://agencia.tse.jus.br/estatistica/sead/odsele/prestacao_contas/prestacao_contas_2010.zip'\n",
    "file_name = 'prestacao_contas_2010.zip'\n",
    "print(\"Downloading 2010 donation data...\")\n",
    "urllib.request.urlretrieve(url, file_name, reporthook)"
   ]
  },
  {
   "cell_type": "code",
   "execution_count": null,
   "metadata": {
    "collapsed": false
   },
   "outputs": [],
   "source": [
    "print(\"Uncompressing downloaded data.\")\n",
    "with zipfile.ZipFile('prestacao_contas_2010.zip',\"r\") as zip_ref:\n",
    "    zip_ref.extractall(\"prestacao_contas_2010\")\n",
    "os.remove(\"prestacao_contas_2010.zip\")"
   ]
  },
  {
   "cell_type": "code",
   "execution_count": null,
   "metadata": {
    "collapsed": false
   },
   "outputs": [],
   "source": [
    "url = 'http://agencia.tse.jus.br/estatistica/sead/odsele/prestacao_contas/prestacao_final_2012.zip'\n",
    "file_name = 'prestacao_final_2012.zip'\n",
    "print(\"Downloading 2012 donation data...\")\n",
    "urllib.request.urlretrieve(url, file_name, reporthook)"
   ]
  },
  {
   "cell_type": "code",
   "execution_count": null,
   "metadata": {
    "collapsed": true
   },
   "outputs": [],
   "source": [
    "print(\"Uncompressing downloaded data.\")\n",
    "with zipfile.ZipFile('prestacao_final_2012.zip',\"r\") as zip_ref:\n",
    "    zip_ref.extractall(\"prestacao_final_2012\")\n",
    "os.remove(\"prestacao_final_2012.zip\")"
   ]
  },
  {
   "cell_type": "code",
   "execution_count": null,
   "metadata": {
    "collapsed": false
   },
   "outputs": [],
   "source": [
    "url = 'http://agencia.tse.jus.br/estatistica/sead/odsele/prestacao_contas/prestacao_final_2014.zip'\n",
    "file_name = 'prestacao_final_2014.zip'\n",
    "print(\"Downloading 2014 donation data...\")\n",
    "urllib.request.urlretrieve(url, file_name, reporthook)"
   ]
  },
  {
   "cell_type": "code",
   "execution_count": null,
   "metadata": {
    "collapsed": false
   },
   "outputs": [],
   "source": [
    "print(\"Uncompressing downloaded data.\")\n",
    "with zipfile.ZipFile('prestacao_final_2014.zip',\"r\") as zip_ref:\n",
    "    zip_ref.extractall(\"prestacao_final_2014\")\n",
    "os.remove(\"prestacao_final_2014.zip\")"
   ]
  },
  {
   "cell_type": "code",
   "execution_count": null,
   "metadata": {
    "collapsed": false
   },
   "outputs": [],
   "source": [
    "url = 'http://agencia.tse.jus.br/estatistica/sead/odsele/prestacao_contas/prestacao_contas_final_2016.zip'\n",
    "file_name = 'prestacao_contas_final_2016.zip'\n",
    "print(\"Downloading 2016 donation data...\")\n",
    "urllib.request.urlretrieve(url, file_name, reporthook)"
   ]
  },
  {
   "cell_type": "code",
   "execution_count": null,
   "metadata": {
    "collapsed": true
   },
   "outputs": [],
   "source": [
    "print(\"Uncompressing downloaded data.\")\n",
    "with zipfile.ZipFile('prestacao_contas_final_2016.zip',\"r\") as zip_ref:\n",
    "    zip_ref.extractall(\"prestacao_contas_final_2016\")\n",
    "os.remove(\"prestacao_contas_final_2016.zip\")"
   ]
  },
  {
   "cell_type": "code",
   "execution_count": null,
   "metadata": {
    "collapsed": false
   },
   "outputs": [],
   "source": [
    "donations_data_candidates_2010 = []\n",
    "donations_data_parties_2010 = []\n",
    "donations_data_committees_2010 = []\n",
    "for root, dirs, files in os.walk(\"prestacao_contas_2010/\", topdown=False):\n",
    "    for name in files:\n",
    "        if 'Receitas' in name:\n",
    "            data = pd.read_csv(os.path.join(root, name), low_memory=False, encoding = \"ISO-8859-1\", sep = ';')\n",
    "            if '/candidato/' in os.path.join(root, name):\n",
    "                donations_data_candidates_2010.append(data)\n",
    "            elif '/comite/' in os.path.join(root, name):\n",
    "                donations_data_committees_2010.append(data)\n",
    "            elif '/partido/' in os.path.join(root, name):\n",
    "                donations_data_parties_2010.append(data)\n",
    "                \n",
    "donations_data_candidates_2010 = pd.concat(donations_data_candidates_2010)\n",
    "donations_data_parties_2010 = pd.concat(donations_data_parties_2010)\n",
    "donations_data_committees_2010 = pd.concat(donations_data_committees_2010)"
   ]
  },
  {
   "cell_type": "code",
   "execution_count": null,
   "metadata": {
    "collapsed": false
   },
   "outputs": [],
   "source": [
    "donations_data_candidates_2012_chunks = pd.read_csv('prestacao_final_2012/receitas_candidatos_2012_brasil.txt',\n",
    "                                                    low_memory=True, encoding = \"ISO-8859-1\", sep = ';',\n",
    "                                                    chunksize = 10000)\n",
    "donations_data_candidates_2012 = []\n",
    "for chunk in donations_data_candidates_2012_chunks:\n",
    "    donations_data_candidates_2012.append(chunk)\n",
    "    \n",
    "donations_data_candidates_2012 = pd.concat(donations_data_candidates_2012)\n",
    "\n",
    "donations_data_parties_2012 = pd.read_csv('prestacao_final_2012/receitas_partidos_2012_brasil.txt', low_memory=False,\n",
    "                                          encoding = \"ISO-8859-1\", sep = ';')\n",
    "donations_data_committees_2012 = pd.read_csv('prestacao_final_2012/receitas_comites_2012_brasil.txt', low_memory=False,\n",
    "                                             encoding = \"ISO-8859-1\", sep = ';')"
   ]
  },
  {
   "cell_type": "code",
   "execution_count": null,
   "metadata": {
    "collapsed": false
   },
   "outputs": [],
   "source": [
    "donations_data_candidates_2014 = pd.read_csv('prestacao_final_2014/receitas_candidatos_2014_brasil.txt', low_memory=False,\n",
    "                                             encoding = \"ISO-8859-1\", sep = ';')\n",
    "donations_data_parties_2014 = pd.read_csv('prestacao_final_2014/receitas_partidos_2014_brasil.txt', low_memory=False,\n",
    "                                           encoding = \"ISO-8859-1\", sep = ';')\n",
    "donations_data_committees_2014 = pd.read_csv('prestacao_final_2014/receitas_comites_2014_brasil.txt', low_memory=False,\n",
    "                                          encoding = \"ISO-8859-1\", sep = ';')"
   ]
  },
  {
   "cell_type": "code",
   "execution_count": null,
   "metadata": {
    "collapsed": false
   },
   "outputs": [],
   "source": [
    "donations_data_candidates_2016_chunks = pd.read_csv('prestacao_contas_final_2016/receitas_candidatos_prestacao_contas_final_2016_brasil.txt',\n",
    "                                             encoding = \"ISO-8859-1\", sep = ';', low_memory=True, chunksize=10000)\n",
    "\n",
    "donations_data_candidates_2016 = []\n",
    "for chunk in donations_data_candidates_2016_chunks:\n",
    "    donations_data_candidates_2016.append(chunk)\n",
    "    \n",
    "donations_data_candidates_2016 = pd.concat(donations_data_candidates_2016)\n",
    "\n",
    "donations_data_parties_2016 = pd.read_csv('prestacao_contas_final_2016/receitas_partidos_prestacao_contas_final_2016_brasil.txt',\n",
    "                                          low_memory=False, encoding = \"ISO-8859-1\", sep = ';')"
   ]
  },
  {
   "cell_type": "code",
   "execution_count": null,
   "metadata": {
    "collapsed": false
   },
   "outputs": [],
   "source": [
    "columns_candidates_2010 = donations_data_candidates_2010.columns.values\n",
    "columns_candidates_2012 = donations_data_candidates_2012.columns.values\n",
    "columns_candidates_2014 = donations_data_candidates_2014.columns.values\n",
    "columns_candidates_2016 = donations_data_candidates_2016.columns.values\n",
    "columns_parties_2010 = donations_data_parties_2010.columns.values\n",
    "columns_parties_2012 = donations_data_parties_2012.columns.values\n",
    "columns_parties_2014 = donations_data_parties_2014.columns.values\n",
    "columns_parties_2016 = donations_data_parties_2016.columns.values\n",
    "columns_committees_2010 = donations_data_committees_2010.columns.values\n",
    "columns_committees_2012 = donations_data_committees_2012.columns.values\n",
    "columns_committees_2014 = donations_data_committees_2014.columns.values\n",
    "\n",
    "columns_mod_candidates_2010 = {}\n",
    "columns_mod_candidates_2012 = {}\n",
    "columns_mod_candidates_2014 = {}\n",
    "columns_mod_candidates_2016 = {}\n",
    "columns_mod_parties_2010 = {}\n",
    "columns_mod_parties_2012 = {}\n",
    "columns_mod_parties_2014 = {}\n",
    "columns_mod_parties_2016 = {}\n",
    "columns_mod_committees_2010 = {}\n",
    "columns_mod_committees_2012 = {}\n",
    "columns_mod_committees_2014 = {}\n",
    "\n",
    "for name in columns_candidates_2010:\n",
    "    columns_mod_candidates_2010[name] = name.strip()\n",
    "for name in columns_candidates_2012:\n",
    "    columns_mod_candidates_2012[name] = name.strip()\n",
    "for name in columns_candidates_2014:\n",
    "    columns_mod_candidates_2014[name] = name.strip()\n",
    "for name in columns_candidates_2016:\n",
    "    columns_mod_candidates_2016[name] = name.strip()\n",
    "for name in columns_parties_2010:\n",
    "    columns_mod_parties_2010[name] = name.strip()\n",
    "for name in columns_parties_2012:\n",
    "    columns_mod_parties_2012[name] = name.strip()\n",
    "for name in columns_parties_2014:\n",
    "    columns_mod_parties_2014[name] = name.strip()\n",
    "for name in columns_parties_2016:\n",
    "    columns_mod_parties_2016[name] = name.strip()\n",
    "for name in columns_committees_2010:\n",
    "    columns_mod_committees_2010[name] = name.strip()\n",
    "for name in columns_committees_2012:\n",
    "    columns_mod_committees_2012[name] = name.strip()\n",
    "for name in columns_committees_2014:\n",
    "    columns_mod_committees_2014[name] = name.strip()\n",
    "\n",
    "# General strips\n",
    "donations_data_candidates_2010.rename(columns=columns_mod_candidates_2010, inplace=True)\n",
    "donations_data_parties_2010.rename(columns=columns_mod_parties_2010, inplace=True)\n",
    "donations_data_committees_2010.rename(columns=columns_mod_committees_2010, inplace=True)\n",
    "donations_data_candidates_2012.rename(columns=columns_mod_candidates_2012, inplace=True)\n",
    "donations_data_parties_2012.rename(columns=columns_mod_parties_2012, inplace=True)\n",
    "donations_data_committees_2012.rename(columns=columns_mod_committees_2012, inplace=True)\n",
    "donations_data_candidates_2014.rename(columns=columns_mod_candidates_2014, inplace=True)\n",
    "donations_data_parties_2014.rename(columns=columns_mod_parties_2014, inplace=True)\n",
    "donations_data_committees_2014.rename(columns=columns_mod_committees_2014, inplace=True)\n",
    "donations_data_candidates_2016.rename(columns=columns_mod_candidates_2016, inplace=True)\n",
    "donations_data_parties_2016.rename(columns=columns_mod_parties_2016, inplace=True)\n",
    "\n",
    "# Specific renaming cases\n",
    "donations_data_candidates_2010.rename(columns={'Descricao da receita': 'Descrição da receita'}, inplace=True)\n",
    "donations_data_candidates_2012.rename(columns={'Descricao da receita': 'Descrição da receita'}, inplace=True)\n",
    "donations_data_candidates_2014.rename(columns={'Descricao da receita': 'Descrição da receita'}, inplace=True)\n",
    "donations_data_candidates_2016.rename(columns={'Descricao da receita': 'Descrição da receita'}, inplace=True)\n",
    "\n",
    "donations_data_candidates_2010.rename(columns={'Especie recurso': 'Espécie recurso'}, inplace=True)\n",
    "donations_data_candidates_2012.rename(columns={'Especie recurso': 'Espécie recurso'}, inplace=True)\n",
    "donations_data_candidates_2014.rename(columns={'Especie recurso': 'Espécie recurso'}, inplace=True)\n",
    "donations_data_candidates_2016.rename(columns={'Especie recurso': 'Espécie recurso'}, inplace=True)\n",
    "\n",
    "donations_data_candidates_2010.rename(columns={'Numero candidato': 'Número candidato'}, inplace=True)\n",
    "donations_data_candidates_2012.rename(columns={'Numero candidato': 'Número candidato'}, inplace=True)\n",
    "donations_data_candidates_2014.rename(columns={'Numero candidato': 'Número candidato'}, inplace=True)\n",
    "donations_data_candidates_2016.rename(columns={'Numero candidato': 'Número candidato'}, inplace=True)\n",
    "\n",
    "donations_data_candidates_2010.rename(columns={'Numero do documento': 'Número do documento'}, inplace=True)\n",
    "donations_data_candidates_2012.rename(columns={'Numero do documento': 'Número do documento'}, inplace=True)\n",
    "donations_data_candidates_2014.rename(columns={'Numero do documento': 'Número do documento'}, inplace=True)\n",
    "donations_data_candidates_2016.rename(columns={'Numero do documento': 'Número do documento'}, inplace=True)\n",
    "\n",
    "donations_data_candidates_2010.rename(columns={'Numero Recibo Eleitoral': 'Número Recibo Eleitoral'}, inplace=True)\n",
    "donations_data_candidates_2012.rename(columns={'Numero Recibo Eleitoral': 'Número Recibo Eleitoral'}, inplace=True)\n",
    "donations_data_candidates_2014.rename(columns={'Numero Recibo Eleitoral': 'Número Recibo Eleitoral'}, inplace=True)\n",
    "donations_data_candidates_2016.rename(columns={'Numero Recibo Eleitoral': 'Número Recibo Eleitoral'}, inplace=True)\n",
    "\n",
    "donations_data_candidates_2010.rename(columns={'Sigla  Partido': 'Sigla Partido'}, inplace=True)\n",
    "donations_data_candidates_2012.rename(columns={'Sigla  Partido': 'Sigla Partido'}, inplace=True)\n",
    "donations_data_candidates_2014.rename(columns={'Sigla  Partido': 'Sigla Partido'}, inplace=True)\n",
    "donations_data_candidates_2016.rename(columns={'Sigla  Partido': 'Sigla Partido'}, inplace=True)\n",
    "\n",
    "donations_data_parties_2010.rename(columns={'Sigla  Partido': 'Sigla Partido'}, inplace=True)\n",
    "donations_data_parties_2012.rename(columns={'Sigla  Partido': 'Sigla Partido'}, inplace=True)\n",
    "donations_data_parties_2014.rename(columns={'Sigla  Partido': 'Sigla Partido'}, inplace=True)\n",
    "donations_data_parties_2016.rename(columns={'Sigla  Partido': 'Sigla Partido'}, inplace=True)\n",
    "\n",
    "donations_data_committees_2010.rename(columns={'Sigla  Partido': 'Sigla Partido'}, inplace=True)\n",
    "donations_data_committees_2012.rename(columns={'Sigla  Partido': 'Sigla Partido'}, inplace=True)\n",
    "donations_data_committees_2014.rename(columns={'Sigla  Partido': 'Sigla Partido'}, inplace=True)"
   ]
  },
  {
   "cell_type": "code",
   "execution_count": null,
   "metadata": {
    "collapsed": false
   },
   "outputs": [],
   "source": [
    "donations_candidates_concatenated = pd.concat([donations_data_candidates_2010, donations_data_candidates_2012,\n",
    "                                               donations_data_candidates_2014, donations_data_candidates_2016])\n",
    "donations_parties_concatenated = pd.concat([donations_data_parties_2010, donations_data_parties_2012,\n",
    "                                            donations_data_parties_2014, donations_data_parties_2016])\n",
    "donations_committees_concatenated = pd.concat([donations_data_committees_2010, donations_data_committees_2012,\n",
    "                                               donations_data_committees_2014])"
   ]
  },
  {
   "cell_type": "code",
   "execution_count": null,
   "metadata": {
    "collapsed": true
   },
   "outputs": [],
   "source": [
    "donations_candidates_concatenated.rename(columns={'Cargo': 'post'}, inplace=True)\n",
    "donations_candidates_concatenated.rename(columns={'CNPJ Prestador Conta': 'accountable_company_id'}, inplace=True)\n",
    "donations_candidates_concatenated.rename(columns={'Cod setor econômico do doador': 'donor_economic_setor_id'}, inplace=True)\n",
    "donations_candidates_concatenated.rename(columns={'Cód. Eleição': 'election_id'}, inplace=True)\n",
    "donations_candidates_concatenated.rename(columns={'CPF do candidato': 'candidate_cpf'}, inplace=True)\n",
    "donations_candidates_concatenated.rename(columns={'CPF do vice/suplente': 'substitute_cpf'}, inplace=True)\n",
    "donations_candidates_concatenated.rename(columns={'CPF/CNPJ do doador': 'donor_cnpj_or_cpf'}, inplace=True)\n",
    "donations_candidates_concatenated.rename(columns={'CPF/CNPJ do doador originário': 'original_donor_cnpj_or_cpf'}, inplace=True)\n",
    "donations_candidates_concatenated.rename(columns={'Data da receita': 'revenue_date'}, inplace=True)\n",
    "donations_candidates_concatenated.rename(columns={'Data e hora': 'date_and_time'}, inplace=True)\n",
    "donations_candidates_concatenated.rename(columns={'Desc. Eleição': 'election_description'}, inplace=True)\n",
    "donations_candidates_concatenated.rename(columns={'Descrição da receita': 'revenue_description'}, inplace=True)\n",
    "donations_candidates_concatenated.rename(columns={'Entrega em conjunto?': 'batch'}, inplace=True)\n",
    "donations_candidates_concatenated.rename(columns={'Especie recurso': 'type_of_revenue'}, inplace=True)\n",
    "donations_candidates_concatenated.rename(columns={'Fonte recurso': 'source_of_revenue'}, inplace=True)\n",
    "donations_candidates_concatenated.rename(columns={'Municipio': 'city'}, inplace=True)\n",
    "donations_candidates_concatenated.rename(columns={'Nome candidato': 'candidate_name'}, inplace=True)\n",
    "donations_candidates_concatenated.rename(columns={'Nome da UE': 'electoral_unit_name'}, inplace=True)\n",
    "donations_candidates_concatenated.rename(columns={'Nome do doador': 'donor_name'}, inplace=True)\n",
    "donations_candidates_concatenated.rename(columns={'Nome do doador (Receita Federal)': 'donor_name_for_federal_revenue'}, inplace=True)\n",
    "donations_candidates_concatenated.rename(columns={'Nome do doador originário'': 'original_donor_name'}, inplace=True)\n",
    "donations_candidates_concatenated.rename(columns={'Nome do doador originário (Receita Federal)': 'original_donor_name_for_federal_revenue'}, inplace=True)\n",
    "donations_candidates_concatenated.rename(columns={'Numero candidato': 'candidate_number'}, inplace=True)\n",
    "donations_candidates_concatenated.rename(columns={'Número candidato doador': 'donor_candidate_number'}, inplace=True)\n",
    "donations_candidates_concatenated.rename(columns={'Numero do documento': 'document_number'}, inplace=True)\n",
    "donations_candidates_concatenated.rename(columns={'Número partido doador': 'donor_party_number'}, inplace=True)\n",
    "donations_candidates_concatenated.rename(columns={'Numero Recibo Eleitoral': 'electoral_receipt_number'}, inplace=True)\n",
    "donations_candidates_concatenated.rename(columns={'Numero UE': 'electoral_unit_number'}, inplace=True)\n",
    "donations_candidates_concatenated.rename(columns={'Sequencial Candidato': 'candidate_sequence'}, inplace=True)\n",
    "donations_candidates_concatenated.rename(columns={'Setor econômico do doador': 'donor_economic_sector'}, inplace=True)\n",
    "donations_candidates_concatenated.rename(columns={'Setor econômico do doador originário': 'original_donor_economic_sector'}, inplace=True)\n",
    "donations_candidates_concatenated.rename(columns={'Sigla da UE': 'electoral_unit_abbreviation'}, inplace=True)\n",
    "donations_candidates_concatenated.rename(columns={'Sigla Partido': 'party_acronym'}, inplace=True)\n",
    "donations_candidates_concatenated.rename(columns={'Sigla UE doador': 'donor_electoral_unit_abbreviation'}, inplace=True)\n",
    "donations_candidates_concatenated.rename(columns={'Tipo doador originário': 'original_donor_type'}, inplace=True)\n",
    "donations_candidates_concatenated.rename(columns={'Tipo receita': 'revenue_type'}, inplace=True)\n",
    "donations_candidates_concatenated.rename(columns={'UF': 'state'}, inplace=True)\n",
    "donations_candidates_concatenated.rename(columns={'Valor receita': 'revenue_value'}, inplace=True)\n",
    "donations_parties_concatenated.rename(columns={'Cargo': 'post'}, inplace=True)\n",
    "donations_parties_concatenated.rename(columns={'CNPJ Prestador Conta': 'accountable_company_id'}, inplace=True)\n",
    "donations_parties_concatenated.rename(columns={'Cod setor econômico do doador': 'donor_economic_setor_id'}, inplace=True)\n",
    "donations_parties_concatenated.rename(columns={'Cód. Eleição': 'election_id'}, inplace=True)\n",
    "donations_parties_concatenated.rename(columns={'CPF do candidato': 'candidate_cpf'}, inplace=True)\n",
    "donations_parties_concatenated.rename(columns={'CPF do vice/suplente': 'substitute_cpf'}, inplace=True)\n",
    "donations_parties_concatenated.rename(columns={'CPF/CNPJ do doador': 'donor_cnpj_or_cpf'}, inplace=True)\n",
    "donations_parties_concatenated.rename(columns={'CPF/CNPJ do doador originário': 'original_donor_cnpj_or_cpf'}, inplace=True)\n",
    "donations_parties_concatenated.rename(columns={'Data da receita': 'revenue_date'}, inplace=True)\n",
    "donations_parties_concatenated.rename(columns={'Data e hora': 'date_and_time'}, inplace=True)\n",
    "donations_parties_concatenated.rename(columns={'Desc. Eleição': 'election_description'}, inplace=True)\n",
    "donations_parties_concatenated.rename(columns={'Descrição da receita': 'revenue_description'}, inplace=True)\n",
    "donations_parties_concatenated.rename(columns={'Entrega em conjunto?': 'batch'}, inplace=True)\n",
    "donations_parties_concatenated.rename(columns={'Especie recurso': 'type_of_revenue'}, inplace=True)\n",
    "donations_parties_concatenated.rename(columns={'Fonte recurso': 'source_of_revenue'}, inplace=True)\n",
    "donations_parties_concatenated.rename(columns={'Municipio': 'city'}, inplace=True)\n",
    "donations_parties_concatenated.rename(columns={'Nome candidato': 'candidate_name'}, inplace=True)\n",
    "donations_parties_concatenated.rename(columns={'Nome da UE': 'electoral_unit_name'}, inplace=True)\n",
    "donations_parties_concatenated.rename(columns={'Nome do doador': 'donor_name'}, inplace=True)\n",
    "donations_parties_concatenated.rename(columns={'Nome do doador (Receita Federal)': 'donor_name_for_federal_revenue'}, inplace=True)\n",
    "donations_parties_concatenated.rename(columns={'Nome do doador originário'': 'original_donor_name'}, inplace=True)\n",
    "donations_parties_concatenated.rename(columns={'Nome do doador originário (Receita Federal)': 'original_donor_name_for_federal_revenue'}, inplace=True)\n",
    "donations_parties_concatenated.rename(columns={'Numero candidato': 'candidate_number'}, inplace=True)\n",
    "donations_parties_concatenated.rename(columns={'Número candidato doador': 'donor_candidate_number'}, inplace=True)\n",
    "donations_parties_concatenated.rename(columns={'Numero do documento': 'document_number'}, inplace=True)\n",
    "donations_parties_concatenated.rename(columns={'Número partido doador': 'donor_party_number'}, inplace=True)\n",
    "donations_parties_concatenated.rename(columns={'Numero Recibo Eleitoral': 'electoral_receipt_number'}, inplace=True)\n",
    "donations_parties_concatenated.rename(columns={'Numero UE': 'electoral_unit_number'}, inplace=True)\n",
    "donations_parties_concatenated.rename(columns={'Sequencial Candidato': 'candidate_sequence'}, inplace=True)\n",
    "donations_parties_concatenated.rename(columns={'Setor econômico do doador': 'donor_economic_sector'}, inplace=True)\n",
    "donations_parties_concatenated.rename(columns={'Setor econômico do doador originário': 'original_donor_economic_sector'}, inplace=True)\n",
    "donations_parties_concatenated.rename(columns={'Sigla da UE': 'electoral_unit_abbreviation'}, inplace=True)\n",
    "donations_parties_concatenated.rename(columns={'Sigla Partido': 'party_acronym'}, inplace=True)\n",
    "donations_parties_concatenated.rename(columns={'Sigla UE doador': 'donor_electoral_unit_abbreviation'}, inplace=True)\n",
    "donations_parties_concatenated.rename(columns={'Tipo doador originário': 'original_donor_type'}, inplace=True)\n",
    "donations_parties_concatenated.rename(columns={'Tipo receita': 'revenue_type'}, inplace=True)\n",
    "donations_parties_concatenated.rename(columns={'UF': 'state'}, inplace=True)\n",
    "donations_parties_concatenated.rename(columns={'Valor receita': 'revenue_value'}, inplace=True)\n",
    "donations_committees_concatenated.rename(columns={'Cargo': 'post'}, inplace=True)\n",
    "donations_committees_concatenated.rename(columns={'CNPJ Prestador Conta': 'accountable_company_id'}, inplace=True)\n",
    "donations_committees_concatenated.rename(columns={'Cod setor econômico do doador': 'donor_economic_setor_id'}, inplace=True)\n",
    "donations_committees_concatenated.rename(columns={'Cód. Eleição': 'election_id'}, inplace=True)\n",
    "donations_committees_concatenated.rename(columns={'CPF do candidato': 'candidate_cpf'}, inplace=True)\n",
    "donations_committees_concatenated.rename(columns={'CPF do vice/suplente': 'substitute_cpf'}, inplace=True)\n",
    "donations_committees_concatenated.rename(columns={'CPF/CNPJ do doador': 'donor_cnpj_or_cpf'}, inplace=True)\n",
    "donations_committees_concatenated.rename(columns={'CPF/CNPJ do doador originário': 'original_donor_cnpj_or_cpf'}, inplace=True)\n",
    "donations_committees_concatenated.rename(columns={'Data da receita': 'revenue_date'}, inplace=True)\n",
    "donations_committees_concatenated.rename(columns={'Data e hora': 'date_and_time'}, inplace=True)\n",
    "donations_committees_concatenated.rename(columns={'Desc. Eleição': 'election_description'}, inplace=True)\n",
    "donations_committees_concatenated.rename(columns={'Descrição da receita': 'revenue_description'}, inplace=True)\n",
    "donations_committees_concatenated.rename(columns={'Entrega em conjunto?': 'batch'}, inplace=True)\n",
    "donations_committees_concatenated.rename(columns={'Especie recurso': 'type_of_revenue'}, inplace=True)\n",
    "donations_committees_concatenated.rename(columns={'Fonte recurso': 'source_of_revenue'}, inplace=True)\n",
    "donations_committees_concatenated.rename(columns={'Municipio': 'city'}, inplace=True)\n",
    "donations_committees_concatenated.rename(columns={'Nome candidato': 'candidate_name'}, inplace=True)\n",
    "donations_committees_concatenated.rename(columns={'Nome da UE': 'electoral_unit_name'}, inplace=True)\n",
    "donations_committees_concatenated.rename(columns={'Nome do doador': 'donor_name'}, inplace=True)\n",
    "donations_committees_concatenated.rename(columns={'Nome do doador (Receita Federal)': 'donor_name_for_federal_revenue'}, inplace=True)\n",
    "donations_committees_concatenated.rename(columns={'Nome do doador originário'': 'original_donor_name'}, inplace=True)\n",
    "donations_committees_concatenated.rename(columns={'Nome do doador originário (Receita Federal)': 'original_donor_name_for_federal_revenue'}, inplace=True)\n",
    "donations_committees_concatenated.rename(columns={'Numero candidato': 'candidate_number'}, inplace=True)\n",
    "donations_committees_concatenated.rename(columns={'Número candidato doador': 'donor_candidate_number'}, inplace=True)\n",
    "donations_committees_concatenated.rename(columns={'Numero do documento': 'document_number'}, inplace=True)\n",
    "donations_committees_concatenated.rename(columns={'Número partido doador': 'donor_party_number'}, inplace=True)\n",
    "donations_committees_concatenated.rename(columns={'Numero Recibo Eleitoral': 'electoral_receipt_number'}, inplace=True)\n",
    "donations_committees_concatenated.rename(columns={'Numero UE': 'electoral_unit_number'}, inplace=True)\n",
    "donations_committees_concatenated.rename(columns={'Sequencial Candidato': 'candidate_sequence'}, inplace=True)\n",
    "donations_committees_concatenated.rename(columns={'Setor econômico do doador': 'donor_economic_sector'}, inplace=True)\n",
    "donations_committees_concatenated.rename(columns={'Setor econômico do doador originário': 'original_donor_economic_sector'}, inplace=True)\n",
    "donations_committees_concatenated.rename(columns={'Sigla da UE': 'electoral_unit_abbreviation'}, inplace=True)\n",
    "donations_committees_concatenated.rename(columns={'Sigla Partido': 'party_acronym'}, inplace=True)\n",
    "donations_committees_concatenated.rename(columns={'Sigla UE doador': 'donor_electoral_unit_abbreviation'}, inplace=True)\n",
    "donations_committees_concatenated.rename(columns={'Tipo doador originário': 'original_donor_type'}, inplace=True)\n",
    "donations_committees_concatenated.rename(columns={'Tipo receita': 'revenue_type'}, inplace=True)\n",
    "donations_committees_concatenated.rename(columns={'UF': 'state'}, inplace=True)\n",
    "donations_committees_concatenated.rename(columns={'Valor receita': 'revenue_value'}, inplace=True)"
   ]
  },
  {
   "cell_type": "code",
   "execution_count": null,
   "metadata": {
    "collapsed": false
   },
   "outputs": [],
   "source": [
    "donations_candidates_concatenated.to_csv(time.strftime(\"%Y-%m-%d\") + '-donations_candidates.xz', compression='xz')\n",
    "donations_parties_concatenated.to_csv(time.strftime(\"%Y-%m-%d\") + '-donations_parties.xz', compression='xz')\n",
    "donations_committees_concatenated.to_csv(time.strftime(\"%Y-%m-%d\") + '-donations_committees.xz', compression='xz')"
   ]
  }
 ],
 "metadata": {
  "anaconda-cloud": {},
  "kernelspec": {
   "display_name": "Python [conda root]",
   "language": "python",
   "name": "conda-root-py"
  },
  "language_info": {
   "codemirror_mode": {
    "name": "ipython",
    "version": 3
   },
   "file_extension": ".py",
   "mimetype": "text/x-python",
   "name": "python",
   "nbconvert_exporter": "python",
   "pygments_lexer": "ipython3",
   "version": "3.5.2"
  }
 },
 "nbformat": 4,
 "nbformat_minor": 1
}
