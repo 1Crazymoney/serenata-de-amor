{
 "cells": [
  {
   "cell_type": "code",
   "execution_count": 1,
   "metadata": {
    "collapsed": true
   },
   "outputs": [],
   "source": [
    "import pandas as pd\n",
    "import os"
   ]
  },
  {
   "cell_type": "code",
   "execution_count": 2,
   "metadata": {
    "collapsed": false
   },
   "outputs": [],
   "source": [
    "donations_data_candidates_2010 = []\n",
    "donations_data_parties_2010 = []\n",
    "donations_data_committees_2010 = []\n",
    "for root, dirs, files in os.walk(\"../../prestacao_contas_2010/\", topdown=False):\n",
    "    for name in files:\n",
    "        if 'Receitas' in name:\n",
    "            data = pd.read_csv(os.path.join(root, name), low_memory=False, encoding = \"ISO-8859-1\", sep = ';')\n",
    "            if '/candidato/' in os.path.join(root, name):\n",
    "                donations_data_candidates_2010.append(data)\n",
    "            elif '/comite/' in os.path.join(root, name):\n",
    "                donations_data_committees_2010.append(data)\n",
    "            elif '/partido/' in os.path.join(root, name):\n",
    "                donations_data_parties_2010.append(data)\n",
    "                \n",
    "donations_data_candidates_2010 = pd.concat(donations_data_candidates_2010)\n",
    "donations_data_parties_2010 = pd.concat(donations_data_parties_2010)\n",
    "donations_data_committees_2010 = pd.concat(donations_data_committees_2010)"
   ]
  },
  {
   "cell_type": "code",
   "execution_count": 3,
   "metadata": {
    "collapsed": false
   },
   "outputs": [],
   "source": [
    "donations_data_candidates_2012_chunks = pd.read_csv('../../prestacao_final_2012/receitas_candidatos_2012_brasil.txt',\n",
    "                                                    low_memory=True, encoding = \"ISO-8859-1\", sep = ';',\n",
    "                                                    chunksize = 10000)\n",
    "donations_data_candidates_2012 = []\n",
    "for chunk in donations_data_candidates_2012_chunks:\n",
    "    donations_data_candidates_2012.append(chunk)\n",
    "    \n",
    "donations_data_candidates_2012 = pd.concat(donations_data_candidates_2012)\n",
    "\n",
    "donations_data_parties_2012 = pd.read_csv('../../prestacao_final_2012/receitas_partidos_2012_brasil.txt', low_memory=False,\n",
    "                                          encoding = \"ISO-8859-1\", sep = ';')\n",
    "donations_data_committees_2012 = pd.read_csv('../../prestacao_final_2012/receitas_comites_2012_brasil.txt', low_memory=False,\n",
    "                                             encoding = \"ISO-8859-1\", sep = ';')"
   ]
  },
  {
   "cell_type": "code",
   "execution_count": 4,
   "metadata": {
    "collapsed": false
   },
   "outputs": [],
   "source": [
    "donations_data_candidates_2014 = pd.read_csv('../../prestacao_final_2014/receitas_candidatos_2014_brasil.txt', low_memory=False,\n",
    "                                             encoding = \"ISO-8859-1\", sep = ';')\n",
    "donations_data_parties_2014 = pd.read_csv('../../prestacao_final_2014/receitas_partidos_2014_brasil.txt', low_memory=False,\n",
    "                                           encoding = \"ISO-8859-1\", sep = ';')\n",
    "donations_data_committees_2014 = pd.read_csv('../../prestacao_final_2014/receitas_comites_2014_brasil.txt', low_memory=False,\n",
    "                                          encoding = \"ISO-8859-1\", sep = ';')"
   ]
  },
  {
   "cell_type": "code",
   "execution_count": 5,
   "metadata": {
    "collapsed": false
   },
   "outputs": [],
   "source": [
    "donations_data_candidates_2016_chunks = pd.read_csv('../../prestacao_contas_final_2016/receitas_candidatos_prestacao_contas_final_2016_brasil.txt',\n",
    "                                             encoding = \"ISO-8859-1\", sep = ';', low_memory=True, chunksize=10000)\n",
    "\n",
    "donations_data_candidates_2016 = []\n",
    "for chunk in donations_data_candidates_2016_chunks:\n",
    "    donations_data_candidates_2016.append(chunk)\n",
    "    \n",
    "donations_data_candidates_2016 = pd.concat(donations_data_candidates_2016)\n",
    "\n",
    "donations_data_parties_2016 = pd.read_csv('../../prestacao_contas_final_2016/receitas_partidos_prestacao_contas_final_2016_brasil.txt',\n",
    "                                          low_memory=False, encoding = \"ISO-8859-1\", sep = ';')"
   ]
  },
  {
   "cell_type": "code",
   "execution_count": 7,
   "metadata": {
    "collapsed": false
   },
   "outputs": [],
   "source": [
    "columns_candidates_2010 = donations_data_candidates_2010.columns.values\n",
    "columns_candidates_2012 = donations_data_candidates_2012.columns.values\n",
    "columns_candidates_2014 = donations_data_candidates_2014.columns.values\n",
    "columns_candidates_2016 = donations_data_candidates_2016.columns.values\n",
    "columns_parties_2010 = donations_data_parties_2010.columns.values\n",
    "columns_parties_2012 = donations_data_parties_2012.columns.values\n",
    "columns_parties_2014 = donations_data_parties_2014.columns.values\n",
    "columns_parties_2016 = donations_data_parties_2016.columns.values\n",
    "columns_committees_2010 = donations_data_committees_2010.columns.values\n",
    "columns_committees_2012 = donations_data_committees_2012.columns.values\n",
    "columns_committees_2014 = donations_data_committees_2014.columns.values\n",
    "\n",
    "columns_mod_candidates_2010 = {}\n",
    "columns_mod_candidates_2012 = {}\n",
    "columns_mod_candidates_2014 = {}\n",
    "columns_mod_candidates_2016 = {}\n",
    "columns_mod_parties_2010 = {}\n",
    "columns_mod_parties_2012 = {}\n",
    "columns_mod_parties_2014 = {}\n",
    "columns_mod_parties_2016 = {}\n",
    "columns_mod_committees_2010 = {}\n",
    "columns_mod_committees_2012 = {}\n",
    "columns_mod_committees_2014 = {}\n",
    "\n",
    "for name in columns_candidates_2010:\n",
    "    columns_mod_candidates_2010[name] = name.strip()\n",
    "for name in columns_candidates_2012:\n",
    "    columns_mod_candidates_2012[name] = name.strip()\n",
    "for name in columns_candidates_2014:\n",
    "    columns_mod_candidates_2014[name] = name.strip()\n",
    "for name in columns_candidates_2016:\n",
    "    columns_mod_candidates_2016[name] = name.strip()\n",
    "for name in columns_parties_2010:\n",
    "    columns_mod_parties_2010[name] = name.strip()\n",
    "for name in columns_parties_2012:\n",
    "    columns_mod_parties_2012[name] = name.strip()\n",
    "for name in columns_parties_2014:\n",
    "    columns_mod_parties_2014[name] = name.strip()\n",
    "for name in columns_parties_2016:\n",
    "    columns_mod_parties_2016[name] = name.strip()\n",
    "for name in columns_committees_2010:\n",
    "    columns_mod_committees_2010[name] = name.strip()\n",
    "for name in columns_committees_2012:\n",
    "    columns_mod_committees_2012[name] = name.strip()\n",
    "for name in columns_committees_2014:\n",
    "    columns_mod_committees_2014[name] = name.strip()\n",
    "\n",
    "# General strips\n",
    "donations_data_candidates_2010.rename(columns=columns_mod_candidates_2010, inplace=True)\n",
    "donations_data_parties_2010.rename(columns=columns_mod_parties_2010, inplace=True)\n",
    "donations_data_committees_2010.rename(columns=columns_mod_committees_2010, inplace=True)\n",
    "donations_data_candidates_2012.rename(columns=columns_mod_candidates_2012, inplace=True)\n",
    "donations_data_parties_2012.rename(columns=columns_mod_parties_2012, inplace=True)\n",
    "donations_data_committees_2012.rename(columns=columns_mod_committees_2012, inplace=True)\n",
    "donations_data_candidates_2014.rename(columns=columns_mod_candidates_2014, inplace=True)\n",
    "donations_data_parties_2014.rename(columns=columns_mod_parties_2014, inplace=True)\n",
    "donations_data_committees_2014.rename(columns=columns_mod_committees_2014, inplace=True)\n",
    "donations_data_candidates_2016.rename(columns=columns_mod_candidates_2016, inplace=True)\n",
    "donations_data_parties_2016.rename(columns=columns_mod_parties_2016, inplace=True)\n",
    "\n",
    "# Specific renaming cases\n",
    "donations_data_candidates_2012.rename(columns={'Descricao da receita': 'Descrição da receita'}, inplace=True)\n",
    "donations_data_candidates_2016.rename(columns={'Descricao da receita': 'Descrição da receita'}, inplace=True)\n",
    "donations_data_candidates_2012.rename(columns={'Especie recurso': 'Espécie recurso'}, inplace=True)\n",
    "donations_data_candidates_2016.rename(columns={'Especie recurso': 'Espécie recurso'}, inplace=True)\n",
    "donations_data_candidates_2012.rename(columns={'Numero candidato': 'Número candidato'}, inplace=True)\n",
    "donations_data_candidates_2016.rename(columns={'Numero candidato': 'Número candidato'}, inplace=True)\n",
    "donations_data_candidates_2012.rename(columns={'Numero do documento': 'Número do documento'}, inplace=True)\n",
    "donations_data_candidates_2016.rename(columns={'Numero do documento': 'Número do documento'}, inplace=True)\n",
    "donations_data_candidates_2012.rename(columns={'Numero Recibo Eleitoral': 'Número Recibo Eleitoral'}, inplace=True)\n",
    "donations_data_candidates_2016.rename(columns={'Numero Recibo Eleitoral': 'Número Recibo Eleitoral'}, inplace=True)\n",
    "donations_data_candidates_2012.rename(columns={'Sigla  Partido': 'Sigla Partido'}, inplace=True)\n",
    "donations_data_candidates_2014.rename(columns={'Sigla  Partido': 'Sigla Partido'}, inplace=True)\n",
    "donations_data_candidates_2016.rename(columns={'Sigla  Partido': 'Sigla Partido'}, inplace=True)\n",
    "donations_data_parties_2012.rename(columns={'Sigla  Partido': 'Sigla Partido'}, inplace=True)\n",
    "donations_data_parties_2016.rename(columns={'Sigla  Partido': 'Sigla Partido'}, inplace=True)\n",
    "donations_data_committees_2012.rename(columns={'Sigla  Partido': 'Sigla Partido'}, inplace=True)"
   ]
  },
  {
   "cell_type": "code",
   "execution_count": 10,
   "metadata": {
    "collapsed": false
   },
   "outputs": [],
   "source": [
    "donations_candidates_concatenated = pd.concat([donations_data_candidates_2010, donations_data_candidates_2012,\n",
    "                                               donations_data_candidates_2014, donations_data_candidates_2016])\n",
    "donations_parties_concatenated = pd.concat([donations_data_parties_2010, donations_data_parties_2012,\n",
    "                                            donations_data_parties_2014, donations_data_parties_2016])\n",
    "donations_committees_concatenated = pd.concat([donations_data_committees_2010, donations_data_committees_2012,\n",
    "                                               donations_data_committees_2014])"
   ]
  },
  {
   "cell_type": "code",
   "execution_count": null,
   "metadata": {
    "collapsed": false
   },
   "outputs": [],
   "source": [
    "donations_candidates_concatenated.to_csv('2017-10-11-donations_candidates.xz', compression='xz')\n",
    "donations_parties_concatenated.to_csv('2017-10-11-donations_parties.xz', compression='xz')\n",
    "donations_committees_concatenated.to_csv('2017-10-11-donations_committees.xz', compression='xz')"
   ]
  }
 ],
 "metadata": {
  "anaconda-cloud": {},
  "kernelspec": {
   "display_name": "Python [conda root]",
   "language": "python",
   "name": "conda-root-py"
  },
  "language_info": {
   "codemirror_mode": {
    "name": "ipython",
    "version": 3
   },
   "file_extension": ".py",
   "mimetype": "text/x-python",
   "name": "python",
   "nbconvert_exporter": "python",
   "pygments_lexer": "ipython3",
   "version": "3.5.2"
  }
 },
 "nbformat": 4,
 "nbformat_minor": 1
}
